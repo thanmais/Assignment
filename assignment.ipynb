{
 "cells": [
  {
   "cell_type": "code",
   "execution_count": 33,
   "metadata": {},
   "outputs": [
    {
     "name": "stdout",
     "output_type": "stream",
     "text": [
      "Defaulting to user installation because normal site-packages is not writeable\n",
      "Collecting redis\n",
      "  Downloading redis-5.1.1-py3-none-any.whl.metadata (9.1 kB)\n",
      "Collecting async-timeout>=4.0.3 (from redis)\n",
      "  Using cached async_timeout-4.0.3-py3-none-any.whl.metadata (4.2 kB)\n",
      "Downloading redis-5.1.1-py3-none-any.whl (261 kB)\n",
      "   ---------------------------------------- 261.3/261.3 kB 8.1 MB/s eta 0:00:00\n",
      "Using cached async_timeout-4.0.3-py3-none-any.whl (5.7 kB)\n",
      "Installing collected packages: async-timeout, redis\n",
      "  Attempting uninstall: async-timeout\n",
      "    Found existing installation: async-timeout 4.0.2\n",
      "    Uninstalling async-timeout-4.0.2:\n",
      "      Successfully uninstalled async-timeout-4.0.2\n",
      "Successfully installed async-timeout-4.0.3 redis-5.1.1\n"
     ]
    },
    {
     "name": "stderr",
     "output_type": "stream",
     "text": [
      "ERROR: pip's dependency resolver does not currently take into account all the packages that are installed. This behaviour is the source of the following dependency conflicts.\n",
      "rembg 2.0.25 requires aiohttp==3.8.1, but you have aiohttp 3.9.5 which is incompatible.\n",
      "rembg 2.0.25 requires numpy==1.21.6, but you have numpy 1.23.5 which is incompatible.\n",
      "rembg 2.0.25 requires onnxruntime==1.12.1, but you have onnxruntime 1.18.0 which is incompatible.\n",
      "rembg 2.0.25 requires scipy==1.7.3, but you have scipy 1.10.1 which is incompatible.\n",
      "WARNING: There was an error checking the latest version of pip.\n"
     ]
    }
   ],
   "source": [
    "!pip3 install redis"
   ]
  },
  {
   "cell_type": "code",
   "execution_count": 7,
   "metadata": {},
   "outputs": [],
   "source": [
    "import feedparser\n",
    "import newspaper\n",
    "from newspaper import Article\n",
    "from datetime import datetime"
   ]
  },
  {
   "cell_type": "markdown",
   "metadata": {},
   "source": [
    "Required libraries\n"
   ]
  },
  {
   "cell_type": "code",
   "execution_count": 24,
   "metadata": {},
   "outputs": [],
   "source": [
    "rss_fields=[\"http://rss.cnn.com/rss/cnn_topstories.rss\", \"http://qz.com/feed\", \"http://feeds.foxnews.com/foxnews/politics\", \"http://feeds.reuters.com/reuters/businessNews\", \"http://feeds.feedburner.com/NewshourWorld\", \"https://feeds.bbci.co.uk/news/world/asia/india/rss.xml\"]"
   ]
  },
  {
   "cell_type": "code",
   "execution_count": 15,
   "metadata": {},
   "outputs": [],
   "source": [
    "def parse_feed(feed_url):\n",
    "    feed=feedparser.parse(feed_url)\n",
    "    articles=[]\n",
    "    \n",
    "    for entry in feed.entries:\n",
    "        articles ={\n",
    "          'title': entry.title,\n",
    "            'link': entry.link,\n",
    "            'published': entry.published if 'published' in entry else None,\n",
    "            'source': feed_url  \n",
    "        }\n",
    "        \n",
    "        try:\n",
    "            news_article = Article(entry.link)\n",
    "            news_article.download()\n",
    "            news_article.parse()\n",
    "            article = {}\n",
    "            article['content'] = news_article.text\n",
    "        except Exception as e:\n",
    "            article['content'] = None  \n",
    "        articles.update(article)\n",
    "    \n",
    "    return articles\n",
    "    "
   ]
  },
  {
   "cell_type": "code",
   "execution_count": 25,
   "metadata": {},
   "outputs": [
    {
     "name": "stdout",
     "output_type": "stream",
     "text": [
      "http://rss.cnn.com/rss/cnn_topstories.rss\n",
      "http://qz.com/feed\n",
      "http://feeds.foxnews.com/foxnews/politics\n",
      "http://feeds.reuters.com/reuters/businessNews\n",
      "http://feeds.feedburner.com/NewshourWorld\n",
      "https://feeds.bbci.co.uk/news/world/asia/india/rss.xml\n"
     ]
    },
    {
     "ename": "NameError",
     "evalue": "name 'arcticles_fields' is not defined",
     "output_type": "error",
     "traceback": [
      "\u001b[1;31m---------------------------------------------------------------------------\u001b[0m",
      "\u001b[1;31mNameError\u001b[0m                                 Traceback (most recent call last)",
      "Input \u001b[1;32mIn [25]\u001b[0m, in \u001b[0;36m<cell line: 7>\u001b[1;34m()\u001b[0m\n\u001b[0;32m      4\u001b[0m     articles_fields\u001b[38;5;241m.\u001b[39mappend(article)\n\u001b[0;32m      5\u001b[0m     \u001b[38;5;28mprint\u001b[39m(field)\n\u001b[1;32m----> 7\u001b[0m \u001b[38;5;28mprint\u001b[39m(\u001b[43marcticles_fields\u001b[49m)\n",
      "\u001b[1;31mNameError\u001b[0m: name 'arcticles_fields' is not defined"
     ]
    }
   ],
   "source": [
    "articles_fields = []\n",
    "for field in rss_fields:\n",
    "    article = parse_feed(field)\n",
    "    articles_fields.append(article)\n",
    "    print(field)\n",
    "    \n",
    "print(arcticles_fields)"
   ]
  },
  {
   "cell_type": "code",
   "execution_count": 27,
   "metadata": {},
   "outputs": [
    {
     "name": "stdout",
     "output_type": "stream",
     "text": [
      "[{'title': \"Review: 'Barry' takes a whack at its farewell season\", 'link': 'https://www.cnn.com/2023/04/14/entertainment/barry-season-4-review/index.html', 'published': 'Fri, 14 Apr 2023 12:33:08 GMT', 'source': 'http://rss.cnn.com/rss/cnn_topstories.rss', 'content': 'CNN —\\n\\n“Barry” has taken chances from the very beginning, which is certainly true of a fourth and final season that picks up where the third left off, with its hitman-turned-wannabe actor getting arrested. That paves the way for an even darker season that accentuates the show’s ensemble aspect while leaning a little too heavily on blurring lines with flights of fancy.\\n\\nThanks to “Succession,” “Barry” won’t be the highest-profile goodbye on HBO this spring, but the Emmy-nominated series isn’t chopped liver either. It’s fair to say, in fact, that while these episodes don’t quite measure up to what’s gone before, even a less-lethal “Barry” is still very, very good.\\n\\nBill Hader’s auteur turn as director-producer-star remains one of TV’s most unpredictable series, and the new season has a strong “Better Call Saul” vibe to it, triggered by fallout from the seemingly inevitable fact that Hader’s Barry couldn’t maintain his double life forever.\\n\\nThe consequences of his arrest flare out to both sides of that equation, from his acting teacher Gene Cousineau (as played by Henry Winkler, still a towering mixture of ego and need) and girlfriend Sally (Sarah Goldberg) to the rogues gallery of petty criminals in his orbit, including Fuches (Stephen Root) and NoHo Hank (Anthony Carrigan), who has improbably found love in the course of his travels, while somehow turning “Barry” into a four-syllable name.\\n\\n“Barry” has always wrestled with the discomfort of having a protagonist who murders people, and the question of empathizing with its namesake becomes particularly acute in these episodes with the character in prison. When Barry asks, “Are you mad at me?” with an almost-childlike naivete, it’s easy to forget, at least momentarily, some of the horrible things he’s done, even if the revenge-minded Jim Moss (Robert Wisdom) can’t.\\n\\nHader (who directed every episode) also excels at darkly comic visual gags, which are augmented in the new season with a few hysterical cameos by actual Hollywood figures, among them director Guillermo del Toro, made even funnier by how random they seem to be.\\n\\nThat said, the show’s surreal digressions and detours into fantasy become more distracting, in a way that feels a little too precious at times. The saving grace, consistently, is the strength of the cast, even if prison creates impediments to their interactions.\\n\\nHBO made most but not all of the season available, and the series effectively keeps the audience on edge and guessing about where it will all end up, and how (or if) its various threads will connect.\\n\\nThe likelihood of a happy ending for everyone in “Barry”-land never seemed to be in the cards, but Hader and co-creator Alec Berg appear determined to exit on their own terms, as good (mostly) and sporadically frustrating as that might be. That’s why it’s hard to get mad at a show that takes such bracing creative risks, even with a season that isn’t quite the stone-cold killer that it has been.\\n\\n“Barry” begins its fourth and final season April 14 at 10 p.m. ET on HBO, which, like CNN, is a unit of Warner Bros. Discovery.'}, {'title': 'Uber will use ChatGPT to get more people to use EVs', 'link': 'https://qz.com/uber-green-electric-vehicles-evs-ai-assistant-1851667513', 'published': 'Tue, 08 Oct 2024 13:13:47 GMT', 'source': 'http://qz.com/feed', 'content': 'In This Story UBER\\n\\nUber (UBER) is looking to encourage users and drivers to opt for electric vehicles.\\n\\n\\n\\nThe next Nvidia? Data center stocks could be a goldmine, strategist says CC Share Subtitles Off\\n\\nEnglish view video The next Nvidia? Data center stocks could be a goldmine, strategist says\\n\\nThe next Nvidia? Data center stocks could be a goldmine, strategist says CC Share Subtitles Off\\n\\nEnglish The next Nvidia? Data center stocks could be a goldmine, strategist says\\n\\nTo do so, the company will roll out an AI assistant powered by OpenAI’s ChatGPT GPT-4o, which will answer drivers’ questions about buying and using electric vehicles as opposed to a gas-powered car, executives said at the Go Get Zero sustainability conference in London on Tuesday.\\n\\nAdvertisement\\n\\nSachin Kansal, vice president of product management at Uber, said that the driver AI assistant is already in beta testing and will launch with EV-specific questions and other use cases within a few months.\\n\\nAdvertisement\\n\\n“EV Preference,” another new feature for users, allows customers to hail only fully electric vehicles. That feature will be rolled out on the app over the coming months, and the company believes the option will “help a lot of riders go green,” said Kansal.\\n\\nAdvertisement\\n\\n“We need more affordable EVs, we need stronger EV mandates, we need incentives for people who are driving the most,” chief executive Dara Khosrowshahi said at the conference. “We want to make sure that chargers are available at every community, not just the wealthiest. So we all need to step up.”\\n\\nUber is also introducing an “EV Mentor” program that connects EV drivers to EV-curious drivers to answer their questions about making the switch.\\n\\nAdvertisement\\n\\nAs part of that push, Uber Green — the company’s EV and hybrid offering that it first launched in 2020 — is now an EV-only service in 40 cities and states around the world, including major hubs like New York City, Los Angeles, Paris, and Sydney.\\n\\nThese efforts are another step towards the achievement of the company’s sustainability initiatives, which include becoming a zero-emission mobility platform in North America and Europe by 2030 and globally by 2040.\\n\\nAdvertisement\\n\\nThe company said there are already currently more than 182,000 EVs on the Uber app.'}, {'title': \"Swing state GOP chair slams Biden-Harris admin for being out of touch on key issue: 'Abandoned this country'\", 'link': 'https://www.foxnews.com/politics/swing-state-gop-chair-slams-biden-harris-admin-out-of-touch-key-issue', 'published': 'Wed, 09 Oct 2024 10:16:29 -0400', 'source': 'http://feeds.foxnews.com/foxnews/politics', 'content': 'PHOENIX – Arizona GOP Chairwoman Gina Swoboda told Fox News Digital she was not impressed with Vice President Kamala Harris’ recent trip to the border, which she called a \"photo op,\" while explaining her belief the Biden-Harris administration has failed the American people at the border.\\n\\n\"I think President Biden abandoned this country and I think Vice President Harris is without a clue,\" Swoboda told Fox News Digital. \"She\\'s without a clue of what regular people are going through. She\\'s without a clue about the border. I do not think she cares.\"\\n\\nSwoboda told Fox News Digital she often talks to ranchers along the border whose families have lived there for 100 years and described the situation as \"total devastation,\" adding that Harris’ recent trip to the border was nothing more than a \"photo op.\"\\n\\n\"I\\'ve been to the border, you have to do more than just go down there and do a photo op and leave,\" Swoboda said. \"You have to consistently, I don\\'t expect the politicians themselves to be able to spend time here all the time, but when President Trump built the wall, I mean, he kept coming down, and you have to have people on the ground that are reporting to you.\"\\n\\nNEW POLL SHOWS WHO HISPANICS ARE BACKING IN SOUTHWEST SWING STATES\\n\\n\"This administration that\\'s in office has not called the head of the Border Patrol. The head of the Border Patrol union was giving remarks that said, like for a year, for two years, for three years, they didn\\'t even hear from the administration as we\\'re having the biggest crisis on the border we\\'ve ever had.\"\\n\\nSwoboda told Fox News Digital she doesn’t think Harris is \"competent or qualified\" to solve the border issue.\\n\\nLAKE RIPS BIDEN-HARRIS \\'DOUBLE WHAMMY\\' POLICIES AFFECTING ARIZONANS : \\'DRIVEN US OVER THE CLIFF\\'\\n\\n\"I don\\'t think she really understands what the role is to be the chief executive of the United States of America,\" Swoboda added. \"So we know we have one candidate that cares very deeply, that had the most secure border in my lifetime. And that\\'s what we really need back for Arizona. And what do they say? Every state is a border state now. It\\'s everywhere.\"\\n\\nA new Fox News survey of Arizona voters in late September showed Harris trailing by 3 points with Trump leading on the immigration issue by 15 points over the vice president.\\n\\nCLICK HERE TO GET THE FOX NEWS APP\\n\\nTrump is also seen as being better at making the country safe by 7 points.'}, [], {'title': 'Column: Why reporting from South Sudan is so difficult — and critically needed', 'link': 'http://www.pbs.org/newshour/updates/reporters-notebook-reporting-south-sudan-difficult-critically-needed/', 'published': 'Sun, 15 Oct 2017 14:27:40 +0000', 'source': 'http://feeds.feedburner.com/NewshourWorld', 'content': 'In August, fellow reporter Jason Patinkin and I crossed on foot from northern Uganda into rebel-held South Sudan. Over the course of four days, we walked more than 40 miles through the bush, escorted by rebel soldiers, to shed light on one of the world’s most underreported conflicts.\\n\\nReporting on South Sudan’s war, which began in 2013, has always been a challenge due to the risk and logistical hurdles associated with accessing remote areas where fighting takes place. But over the past year, covering the war and its humanitarian fallout has become particularly difficult. Since the beginning of this year, South Sudan’s government has banned at least 20 foreign journalists in an apparent effort to silence reporters who had a track record of critically reporting on the government.\\n\\nThis systematic crackdown on the foreign press (South Sudanese journalists have long risked imprisonment and death for doing their work) coincided with two important developments. In November 2016, the United Nations warned that the violence being committed against civilians in the southern region of Equatoria risked spiraling into genocide. Then, in February, the UN declared a man-made famine, warning that 100,000 people were at risk of starving to death as a result of civil war.\\n\\nJournalists seeking to cover these events were left with two equally unsavory options: self-censorship or a risky trip to rebel-held parts of the country. Only a handful of journalists have attempted the latter since fighting escalated in July last year. For us, this was our second embed with the rebels this year.\\n\\nWe set off from a town in northern Uganda at five in the morning, bouncing along a bumpy dirt track towards the South Sudan border. Crammed into our four-wheel drive were rebel commander Martin Abucha, a dual American and South Sudanese citizen who we planned to profile for our PBS NewsHour Weekend segment, a couple of guides, and several duffle bags stuffed with our tents, sleeping bags, emergency medical kits and provisions to last us four days.\\n\\nJust as the sun began to rise above a distant range of hills that we aimed to cross later that day, our car came to a halt in front of a stream. Because of the rainy reason, it carried more water than usual. It was time to disembark and start walking, or “footing,” as South Sudanese tend to call it.\\n\\nWe took off our shoes and waded through the stream’s chilly waters. This was the first of a many rivers we’d have to cross along the way, either on foot or in small flimsy canoes dug out from tree trunks. Each time, we dreaded the idea of falling in with our camera gear.\\n\\nThe war has had a devastating impact on South Sudanese communities, but much of it has remained out of the limelight of international media.\\n\\nThe first part of our journey in northern Uganda felt very much like a hike through a national park. Passing beautiful landscapes and idyllic farming villages, one could almost forget we were headed into a war zone — but we were about to get a reality check.\\n\\nWe had just crossed into South Sudan when out of nowhere, two dozen armed men popped out of the tall grass and surrounded us at gunpoint.\\n\\n“Stop! Who are you and where are you going,” a soldier called out in Juba Arabic from his hideout no more than 20 yards away, pointing his AK47 at us. Another one next to him had a rocket-propelled grenade propped on his shoulder, also unequivocally aiming it in our direction.\\n\\nInstinctively, we threw our hands in the air and exchanged a baffled glance. Had we accidentally bumped into government soldiers? Or perhaps we had come onto the “wrong” rebels? Abucha’s group, called the Sudan People’s Liberation Army In Opposition, is the biggest but not the only armed group in Equatoria, an area rife with rival militia and bandits who exploit the security vacuum left by war.\\n\\nTo our relief, and only after Abucha answered a series of questions, this routine security check quickly gave way to a warm welcome. The platoon would be our escort for the next four days as we trekked to their base and to Loa, Abucha’s hometown.\\n\\nKeeping up with the rebels was no easy task. Given the country’s pervasive lack of basic infrastructure, South Sudanese grow up walking for dozens of miles just to go about their daily lives. For sedentary Westerners, keeping the target pace of “two meters per second” (around five miles an hour) proved challenging amid 90-degree temperatures, all while filming and plowing our way through dense, itchy elephant grass.\\n\\nThe upside of the cumbersome terrain was that it kept us safe. During our four-day trip, we didn’t cross a single road, instead walking along a dizzying network of narrow bush paths the rebels seemed to know like the backs of their hands. An unwanted encounter with government troops, who tended to stick to roads and move around in vehicles as opposed to on foot, was highly unlikely.\\n\\nThe closest we got to government-controlled area was a visit to Loa, located just two kilometers away from a main road frequently patrolled by government soldiers. We couldn’t stay long, but the hour we spent on the ground offered us a glimpse into what villages must look like in many parts of Equatoria: burned mud huts, looted schools and clinics, fallow fields and – most strikingly – no civilians.\\n\\nThe war has had a devastating impact on South Sudanese communities like the one in Loa, but much of it has remained out of the limelight of international media. Our four-day venture into rebel-held South Sudan offered us a rare opportunity to report ground truths, and we are thankful for that.'}, {'title': \"What worked for India's Modi - and what didn’t?\", 'link': 'https://www.bbc.com/news/articles/ce442577v35o', 'published': 'Tue, 04 Jun 2024 15:32:32 GMT', 'source': 'https://feeds.bbci.co.uk/news/world/asia/india/rss.xml', 'content': \"What worked for India's Modi - and what didn’t?\\n\\nWhat worked for India's Modi and what didn’t?\\n\\nIndian Prime Minister Narendra Modi’s BJP looks to have won the most seats in this year's election.\\n\\nBut - for the first time - he has fallen short of getting an outright majority, and will need to rely on his allies to get him over the final hurdle.\\n\\nSo, what happened? The BBC’s Yogita Limaye explains.\\n\\nVideo produced by Christian Parkinson.\"}]\n"
     ]
    }
   ],
   "source": [
    "print(articles_fields)"
   ]
  },
  {
   "cell_type": "markdown",
   "metadata": {},
   "source": [
    "feedparser to collect news aricles\n"
   ]
  },
  {
   "cell_type": "code",
   "execution_count": 28,
   "metadata": {},
   "outputs": [],
   "source": [
    "import sqlite3\n",
    "\n",
    "# Connect to SQLite database\n",
    "conn = sqlite3.connect('news_articles.db')\n",
    "cursor = conn.cursor()\n",
    "\n",
    "# Create a table to store articles\n",
    "cursor.execute('''CREATE TABLE IF NOT EXISTS articles (\n",
    "                  id INTEGER PRIMARY KEY AUTOINCREMENT,\n",
    "                  title TEXT,\n",
    "                  content TEXT,\n",
    "                  published DATETIME,\n",
    "                  source TEXT,\n",
    "                  url TEXT UNIQUE,\n",
    "                  category TEXT)''')\n",
    "\n",
    "# Function to store articles in the database\n",
    "def store_article(article, category):\n",
    "    try:\n",
    "        cursor.execute('''INSERT INTO articles (title, content, published, source, url, category) \n",
    "                          VALUES (?, ?, ?, ?, ?, ?)''', \n",
    "                          (article['title'], article['content'], article['published'], article['source'], article['link'], category))\n",
    "        conn.commit()\n",
    "    except sqlite3.IntegrityError:\n",
    "        print(f\"Duplicate article: {article['title']}\")\n"
   ]
  },
  {
   "cell_type": "markdown",
   "metadata": {},
   "source": [
    "database storage\n"
   ]
  },
  {
   "cell_type": "code",
   "execution_count": 29,
   "metadata": {},
   "outputs": [],
   "source": [
    "import nltk\n",
    "from nltk.corpus import stopwords\n",
    "\n",
    "# Example categories with keywords\n",
    "categories = {\n",
    "    'Politics': ['election', 'government', 'politician', 'policy'],\n",
    "    'Technology': ['tech', 'AI', 'software', 'hardware', 'innovation'],\n",
    "    'Health': ['health', 'medicine', 'doctor', 'virus', 'vaccine']\n",
    "}\n",
    "\n",
    "# Categorization function based on keywords\n",
    "def categorize_article(content):\n",
    "    if not content:\n",
    "        return 'Uncategorized'\n",
    "    \n",
    "    content_words = set(content.lower().split())\n",
    "    for category, keywords in categories.items():\n",
    "        if any(keyword in content_words for keyword in keywords):\n",
    "            return category\n",
    "    return 'Uncategorized'\n"
   ]
  },
  {
   "cell_type": "markdown",
   "metadata": {},
   "source": [
    "article categorization"
   ]
  },
  {
   "cell_type": "code",
   "execution_count": 34,
   "metadata": {},
   "outputs": [
    {
     "ename": "OperationalError",
     "evalue": "Error 10061 connecting to localhost:6379. No connection could be made because the target machine actively refused it.",
     "output_type": "error",
     "traceback": [
      "\u001b[1;31m---------------------------------------------------------------------------\u001b[0m",
      "\u001b[1;31mAttributeError\u001b[0m                            Traceback (most recent call last)",
      "File \u001b[1;32m~\\AppData\\Roaming\\Python\\Python310\\site-packages\\kombu\\utils\\functional.py:32\u001b[0m, in \u001b[0;36mChannelPromise.__call__\u001b[1;34m(self)\u001b[0m\n\u001b[0;32m     31\u001b[0m \u001b[38;5;28;01mtry\u001b[39;00m:\n\u001b[1;32m---> 32\u001b[0m     \u001b[38;5;28;01mreturn\u001b[39;00m \u001b[38;5;28;43mself\u001b[39;49m\u001b[38;5;241;43m.\u001b[39;49m\u001b[43m__value__\u001b[49m\n\u001b[0;32m     33\u001b[0m \u001b[38;5;28;01mexcept\u001b[39;00m \u001b[38;5;167;01mAttributeError\u001b[39;00m:\n",
      "\u001b[1;31mAttributeError\u001b[0m: 'ChannelPromise' object has no attribute '__value__'",
      "\nDuring handling of the above exception, another exception occurred:\n",
      "\u001b[1;31mIndexError\u001b[0m                                Traceback (most recent call last)",
      "File \u001b[1;32m~\\AppData\\Roaming\\Python\\Python310\\site-packages\\kombu\\transport\\virtual\\base.py:951\u001b[0m, in \u001b[0;36mTransport.create_channel\u001b[1;34m(self, connection)\u001b[0m\n\u001b[0;32m    950\u001b[0m \u001b[38;5;28;01mtry\u001b[39;00m:\n\u001b[1;32m--> 951\u001b[0m     \u001b[38;5;28;01mreturn\u001b[39;00m \u001b[38;5;28;43mself\u001b[39;49m\u001b[38;5;241;43m.\u001b[39;49m\u001b[43m_avail_channels\u001b[49m\u001b[38;5;241;43m.\u001b[39;49m\u001b[43mpop\u001b[49m\u001b[43m(\u001b[49m\u001b[43m)\u001b[49m\n\u001b[0;32m    952\u001b[0m \u001b[38;5;28;01mexcept\u001b[39;00m \u001b[38;5;167;01mIndexError\u001b[39;00m:\n",
      "\u001b[1;31mIndexError\u001b[0m: pop from empty list",
      "\nDuring handling of the above exception, another exception occurred:\n",
      "\u001b[1;31mConnectionRefusedError\u001b[0m                    Traceback (most recent call last)",
      "File \u001b[1;32m~\\AppData\\Roaming\\Python\\Python310\\site-packages\\redis\\connection.py:357\u001b[0m, in \u001b[0;36mAbstractConnection.connect\u001b[1;34m(self)\u001b[0m\n\u001b[0;32m    356\u001b[0m \u001b[38;5;28;01mtry\u001b[39;00m:\n\u001b[1;32m--> 357\u001b[0m     sock \u001b[38;5;241m=\u001b[39m \u001b[38;5;28;43mself\u001b[39;49m\u001b[38;5;241;43m.\u001b[39;49m\u001b[43mretry\u001b[49m\u001b[38;5;241;43m.\u001b[39;49m\u001b[43mcall_with_retry\u001b[49m\u001b[43m(\u001b[49m\n\u001b[0;32m    358\u001b[0m \u001b[43m        \u001b[49m\u001b[38;5;28;43;01mlambda\u001b[39;49;00m\u001b[43m:\u001b[49m\u001b[43m \u001b[49m\u001b[38;5;28;43mself\u001b[39;49m\u001b[38;5;241;43m.\u001b[39;49m\u001b[43m_connect\u001b[49m\u001b[43m(\u001b[49m\u001b[43m)\u001b[49m\u001b[43m,\u001b[49m\u001b[43m \u001b[49m\u001b[38;5;28;43;01mlambda\u001b[39;49;00m\u001b[43m \u001b[49m\u001b[43merror\u001b[49m\u001b[43m:\u001b[49m\u001b[43m \u001b[49m\u001b[38;5;28;43mself\u001b[39;49m\u001b[38;5;241;43m.\u001b[39;49m\u001b[43mdisconnect\u001b[49m\u001b[43m(\u001b[49m\u001b[43merror\u001b[49m\u001b[43m)\u001b[49m\n\u001b[0;32m    359\u001b[0m \u001b[43m    \u001b[49m\u001b[43m)\u001b[49m\n\u001b[0;32m    360\u001b[0m \u001b[38;5;28;01mexcept\u001b[39;00m socket\u001b[38;5;241m.\u001b[39mtimeout:\n",
      "File \u001b[1;32m~\\AppData\\Roaming\\Python\\Python310\\site-packages\\redis\\retry.py:62\u001b[0m, in \u001b[0;36mRetry.call_with_retry\u001b[1;34m(self, do, fail)\u001b[0m\n\u001b[0;32m     61\u001b[0m \u001b[38;5;28;01mtry\u001b[39;00m:\n\u001b[1;32m---> 62\u001b[0m     \u001b[38;5;28;01mreturn\u001b[39;00m \u001b[43mdo\u001b[49m\u001b[43m(\u001b[49m\u001b[43m)\u001b[49m\n\u001b[0;32m     63\u001b[0m \u001b[38;5;28;01mexcept\u001b[39;00m \u001b[38;5;28mself\u001b[39m\u001b[38;5;241m.\u001b[39m_supported_errors \u001b[38;5;28;01mas\u001b[39;00m error:\n",
      "File \u001b[1;32m~\\AppData\\Roaming\\Python\\Python310\\site-packages\\redis\\connection.py:358\u001b[0m, in \u001b[0;36mAbstractConnection.connect.<locals>.<lambda>\u001b[1;34m()\u001b[0m\n\u001b[0;32m    356\u001b[0m \u001b[38;5;28;01mtry\u001b[39;00m:\n\u001b[0;32m    357\u001b[0m     sock \u001b[38;5;241m=\u001b[39m \u001b[38;5;28mself\u001b[39m\u001b[38;5;241m.\u001b[39mretry\u001b[38;5;241m.\u001b[39mcall_with_retry(\n\u001b[1;32m--> 358\u001b[0m         \u001b[38;5;28;01mlambda\u001b[39;00m: \u001b[38;5;28;43mself\u001b[39;49m\u001b[38;5;241;43m.\u001b[39;49m\u001b[43m_connect\u001b[49m\u001b[43m(\u001b[49m\u001b[43m)\u001b[49m, \u001b[38;5;28;01mlambda\u001b[39;00m error: \u001b[38;5;28mself\u001b[39m\u001b[38;5;241m.\u001b[39mdisconnect(error)\n\u001b[0;32m    359\u001b[0m     )\n\u001b[0;32m    360\u001b[0m \u001b[38;5;28;01mexcept\u001b[39;00m socket\u001b[38;5;241m.\u001b[39mtimeout:\n",
      "File \u001b[1;32m~\\AppData\\Roaming\\Python\\Python310\\site-packages\\redis\\connection.py:730\u001b[0m, in \u001b[0;36mConnection._connect\u001b[1;34m(self)\u001b[0m\n\u001b[0;32m    729\u001b[0m \u001b[38;5;28;01mif\u001b[39;00m err \u001b[38;5;129;01mis\u001b[39;00m \u001b[38;5;129;01mnot\u001b[39;00m \u001b[38;5;28;01mNone\u001b[39;00m:\n\u001b[1;32m--> 730\u001b[0m     \u001b[38;5;28;01mraise\u001b[39;00m err\n\u001b[0;32m    731\u001b[0m \u001b[38;5;28;01mraise\u001b[39;00m \u001b[38;5;167;01mOSError\u001b[39;00m(\u001b[38;5;124m\"\u001b[39m\u001b[38;5;124msocket.getaddrinfo returned an empty list\u001b[39m\u001b[38;5;124m\"\u001b[39m)\n",
      "File \u001b[1;32m~\\AppData\\Roaming\\Python\\Python310\\site-packages\\redis\\connection.py:718\u001b[0m, in \u001b[0;36mConnection._connect\u001b[1;34m(self)\u001b[0m\n\u001b[0;32m    717\u001b[0m \u001b[38;5;66;03m# connect\u001b[39;00m\n\u001b[1;32m--> 718\u001b[0m \u001b[43msock\u001b[49m\u001b[38;5;241;43m.\u001b[39;49m\u001b[43mconnect\u001b[49m\u001b[43m(\u001b[49m\u001b[43msocket_address\u001b[49m\u001b[43m)\u001b[49m\n\u001b[0;32m    720\u001b[0m \u001b[38;5;66;03m# set the socket_timeout now that we're connected\u001b[39;00m\n",
      "\u001b[1;31mConnectionRefusedError\u001b[0m: [WinError 10061] No connection could be made because the target machine actively refused it",
      "\nDuring handling of the above exception, another exception occurred:\n",
      "\u001b[1;31mConnectionError\u001b[0m                           Traceback (most recent call last)",
      "File \u001b[1;32m~\\AppData\\Roaming\\Python\\Python310\\site-packages\\kombu\\connection.py:472\u001b[0m, in \u001b[0;36mConnection._reraise_as_library_errors\u001b[1;34m(self, ConnectionError, ChannelError)\u001b[0m\n\u001b[0;32m    471\u001b[0m \u001b[38;5;28;01mtry\u001b[39;00m:\n\u001b[1;32m--> 472\u001b[0m     \u001b[38;5;28;01myield\u001b[39;00m\n\u001b[0;32m    473\u001b[0m \u001b[38;5;28;01mexcept\u001b[39;00m (\u001b[38;5;167;01mConnectionError\u001b[39;00m, ChannelError):\n",
      "File \u001b[1;32m~\\AppData\\Roaming\\Python\\Python310\\site-packages\\kombu\\connection.py:459\u001b[0m, in \u001b[0;36mConnection._ensure_connection\u001b[1;34m(self, errback, max_retries, interval_start, interval_step, interval_max, callback, reraise_as_library_errors, timeout)\u001b[0m\n\u001b[0;32m    458\u001b[0m \u001b[38;5;28;01mwith\u001b[39;00m ctx():\n\u001b[1;32m--> 459\u001b[0m     \u001b[38;5;28;01mreturn\u001b[39;00m \u001b[43mretry_over_time\u001b[49m\u001b[43m(\u001b[49m\n\u001b[0;32m    460\u001b[0m \u001b[43m        \u001b[49m\u001b[38;5;28;43mself\u001b[39;49m\u001b[38;5;241;43m.\u001b[39;49m\u001b[43m_connection_factory\u001b[49m\u001b[43m,\u001b[49m\u001b[43m \u001b[49m\u001b[38;5;28;43mself\u001b[39;49m\u001b[38;5;241;43m.\u001b[39;49m\u001b[43mrecoverable_connection_errors\u001b[49m\u001b[43m,\u001b[49m\n\u001b[0;32m    461\u001b[0m \u001b[43m        \u001b[49m\u001b[43m(\u001b[49m\u001b[43m)\u001b[49m\u001b[43m,\u001b[49m\u001b[43m \u001b[49m\u001b[43m{\u001b[49m\u001b[43m}\u001b[49m\u001b[43m,\u001b[49m\u001b[43m \u001b[49m\u001b[43mon_error\u001b[49m\u001b[43m,\u001b[49m\u001b[43m \u001b[49m\u001b[43mmax_retries\u001b[49m\u001b[43m,\u001b[49m\n\u001b[0;32m    462\u001b[0m \u001b[43m        \u001b[49m\u001b[43minterval_start\u001b[49m\u001b[43m,\u001b[49m\u001b[43m \u001b[49m\u001b[43minterval_step\u001b[49m\u001b[43m,\u001b[49m\u001b[43m \u001b[49m\u001b[43minterval_max\u001b[49m\u001b[43m,\u001b[49m\n\u001b[0;32m    463\u001b[0m \u001b[43m        \u001b[49m\u001b[43mcallback\u001b[49m\u001b[43m,\u001b[49m\u001b[43m \u001b[49m\u001b[43mtimeout\u001b[49m\u001b[38;5;241;43m=\u001b[39;49m\u001b[43mtimeout\u001b[49m\n\u001b[0;32m    464\u001b[0m \u001b[43m    \u001b[49m\u001b[43m)\u001b[49m\n",
      "File \u001b[1;32m~\\AppData\\Roaming\\Python\\Python310\\site-packages\\kombu\\utils\\functional.py:318\u001b[0m, in \u001b[0;36mretry_over_time\u001b[1;34m(fun, catch, args, kwargs, errback, max_retries, interval_start, interval_step, interval_max, callback, timeout)\u001b[0m\n\u001b[0;32m    317\u001b[0m \u001b[38;5;28;01mtry\u001b[39;00m:\n\u001b[1;32m--> 318\u001b[0m     \u001b[38;5;28;01mreturn\u001b[39;00m fun(\u001b[38;5;241m*\u001b[39margs, \u001b[38;5;241m*\u001b[39m\u001b[38;5;241m*\u001b[39mkwargs)\n\u001b[0;32m    319\u001b[0m \u001b[38;5;28;01mexcept\u001b[39;00m catch \u001b[38;5;28;01mas\u001b[39;00m exc:\n",
      "File \u001b[1;32m~\\AppData\\Roaming\\Python\\Python310\\site-packages\\kombu\\connection.py:934\u001b[0m, in \u001b[0;36mConnection._connection_factory\u001b[1;34m(self)\u001b[0m\n\u001b[0;32m    933\u001b[0m \u001b[38;5;28mself\u001b[39m\u001b[38;5;241m.\u001b[39m_default_channel \u001b[38;5;241m=\u001b[39m \u001b[38;5;28;01mNone\u001b[39;00m\n\u001b[1;32m--> 934\u001b[0m \u001b[38;5;28mself\u001b[39m\u001b[38;5;241m.\u001b[39m_connection \u001b[38;5;241m=\u001b[39m \u001b[38;5;28;43mself\u001b[39;49m\u001b[38;5;241;43m.\u001b[39;49m\u001b[43m_establish_connection\u001b[49m\u001b[43m(\u001b[49m\u001b[43m)\u001b[49m\n\u001b[0;32m    935\u001b[0m \u001b[38;5;28mself\u001b[39m\u001b[38;5;241m.\u001b[39m_closed \u001b[38;5;241m=\u001b[39m \u001b[38;5;28;01mFalse\u001b[39;00m\n",
      "File \u001b[1;32m~\\AppData\\Roaming\\Python\\Python310\\site-packages\\kombu\\connection.py:860\u001b[0m, in \u001b[0;36mConnection._establish_connection\u001b[1;34m(self)\u001b[0m\n\u001b[0;32m    859\u001b[0m \u001b[38;5;28mself\u001b[39m\u001b[38;5;241m.\u001b[39m_debug(\u001b[38;5;124m'\u001b[39m\u001b[38;5;124mestablishing connection...\u001b[39m\u001b[38;5;124m'\u001b[39m)\n\u001b[1;32m--> 860\u001b[0m conn \u001b[38;5;241m=\u001b[39m \u001b[38;5;28;43mself\u001b[39;49m\u001b[38;5;241;43m.\u001b[39;49m\u001b[43mtransport\u001b[49m\u001b[38;5;241;43m.\u001b[39;49m\u001b[43mestablish_connection\u001b[49m\u001b[43m(\u001b[49m\u001b[43m)\u001b[49m\n\u001b[0;32m    861\u001b[0m \u001b[38;5;28mself\u001b[39m\u001b[38;5;241m.\u001b[39m_debug(\u001b[38;5;124m'\u001b[39m\u001b[38;5;124mconnection established: \u001b[39m\u001b[38;5;132;01m%r\u001b[39;00m\u001b[38;5;124m'\u001b[39m, \u001b[38;5;28mself\u001b[39m)\n",
      "File \u001b[1;32m~\\AppData\\Roaming\\Python\\Python310\\site-packages\\kombu\\transport\\virtual\\base.py:975\u001b[0m, in \u001b[0;36mTransport.establish_connection\u001b[1;34m(self)\u001b[0m\n\u001b[0;32m    971\u001b[0m \u001b[38;5;28;01mdef\u001b[39;00m \u001b[38;5;21mestablish_connection\u001b[39m(\u001b[38;5;28mself\u001b[39m):\n\u001b[0;32m    972\u001b[0m     \u001b[38;5;66;03m# creates channel to verify connection.\u001b[39;00m\n\u001b[0;32m    973\u001b[0m     \u001b[38;5;66;03m# this channel is then used as the next requested channel.\u001b[39;00m\n\u001b[0;32m    974\u001b[0m     \u001b[38;5;66;03m# (returned by ``create_channel``).\u001b[39;00m\n\u001b[1;32m--> 975\u001b[0m     \u001b[38;5;28mself\u001b[39m\u001b[38;5;241m.\u001b[39m_avail_channels\u001b[38;5;241m.\u001b[39mappend(\u001b[38;5;28;43mself\u001b[39;49m\u001b[38;5;241;43m.\u001b[39;49m\u001b[43mcreate_channel\u001b[49m\u001b[43m(\u001b[49m\u001b[38;5;28;43mself\u001b[39;49m\u001b[43m)\u001b[49m)\n\u001b[0;32m    976\u001b[0m     \u001b[38;5;28;01mreturn\u001b[39;00m \u001b[38;5;28mself\u001b[39m\n",
      "File \u001b[1;32m~\\AppData\\Roaming\\Python\\Python310\\site-packages\\kombu\\transport\\virtual\\base.py:953\u001b[0m, in \u001b[0;36mTransport.create_channel\u001b[1;34m(self, connection)\u001b[0m\n\u001b[0;32m    952\u001b[0m \u001b[38;5;28;01mexcept\u001b[39;00m \u001b[38;5;167;01mIndexError\u001b[39;00m:\n\u001b[1;32m--> 953\u001b[0m     channel \u001b[38;5;241m=\u001b[39m \u001b[38;5;28;43mself\u001b[39;49m\u001b[38;5;241;43m.\u001b[39;49m\u001b[43mChannel\u001b[49m\u001b[43m(\u001b[49m\u001b[43mconnection\u001b[49m\u001b[43m)\u001b[49m\n\u001b[0;32m    954\u001b[0m     \u001b[38;5;28mself\u001b[39m\u001b[38;5;241m.\u001b[39mchannels\u001b[38;5;241m.\u001b[39mappend(channel)\n",
      "File \u001b[1;32m~\\AppData\\Roaming\\Python\\Python310\\site-packages\\kombu\\transport\\redis.py:744\u001b[0m, in \u001b[0;36mChannel.__init__\u001b[1;34m(self, *args, **kwargs)\u001b[0m\n\u001b[0;32m    743\u001b[0m \u001b[38;5;28;01mtry\u001b[39;00m:\n\u001b[1;32m--> 744\u001b[0m     \u001b[38;5;28;43mself\u001b[39;49m\u001b[38;5;241;43m.\u001b[39;49m\u001b[43mclient\u001b[49m\u001b[38;5;241;43m.\u001b[39;49m\u001b[43mping\u001b[49m\u001b[43m(\u001b[49m\u001b[43m)\u001b[49m\n\u001b[0;32m    745\u001b[0m \u001b[38;5;28;01mexcept\u001b[39;00m \u001b[38;5;167;01mException\u001b[39;00m:\n",
      "File \u001b[1;32m~\\AppData\\Roaming\\Python\\Python310\\site-packages\\redis\\commands\\core.py:1212\u001b[0m, in \u001b[0;36mManagementCommands.ping\u001b[1;34m(self, **kwargs)\u001b[0m\n\u001b[0;32m   1207\u001b[0m \u001b[38;5;124;03m\"\"\"\u001b[39;00m\n\u001b[0;32m   1208\u001b[0m \u001b[38;5;124;03mPing the Redis server\u001b[39;00m\n\u001b[0;32m   1209\u001b[0m \n\u001b[0;32m   1210\u001b[0m \u001b[38;5;124;03mFor more information see https://redis.io/commands/ping\u001b[39;00m\n\u001b[0;32m   1211\u001b[0m \u001b[38;5;124;03m\"\"\"\u001b[39;00m\n\u001b[1;32m-> 1212\u001b[0m \u001b[38;5;28;01mreturn\u001b[39;00m \u001b[38;5;28mself\u001b[39m\u001b[38;5;241m.\u001b[39mexecute_command(\u001b[38;5;124m\"\u001b[39m\u001b[38;5;124mPING\u001b[39m\u001b[38;5;124m\"\u001b[39m, \u001b[38;5;241m*\u001b[39m\u001b[38;5;241m*\u001b[39mkwargs)\n",
      "File \u001b[1;32m~\\AppData\\Roaming\\Python\\Python310\\site-packages\\redis\\client.py:559\u001b[0m, in \u001b[0;36mRedis.execute_command\u001b[1;34m(self, *args, **options)\u001b[0m\n\u001b[0;32m    558\u001b[0m \u001b[38;5;28;01mdef\u001b[39;00m \u001b[38;5;21mexecute_command\u001b[39m(\u001b[38;5;28mself\u001b[39m, \u001b[38;5;241m*\u001b[39margs, \u001b[38;5;241m*\u001b[39m\u001b[38;5;241m*\u001b[39moptions):\n\u001b[1;32m--> 559\u001b[0m     \u001b[38;5;28;01mreturn\u001b[39;00m \u001b[38;5;28mself\u001b[39m\u001b[38;5;241m.\u001b[39m_execute_command(\u001b[38;5;241m*\u001b[39margs, \u001b[38;5;241m*\u001b[39m\u001b[38;5;241m*\u001b[39moptions)\n",
      "File \u001b[1;32m~\\AppData\\Roaming\\Python\\Python310\\site-packages\\redis\\client.py:565\u001b[0m, in \u001b[0;36mRedis._execute_command\u001b[1;34m(self, *args, **options)\u001b[0m\n\u001b[0;32m    564\u001b[0m command_name \u001b[38;5;241m=\u001b[39m args[\u001b[38;5;241m0\u001b[39m]\n\u001b[1;32m--> 565\u001b[0m conn \u001b[38;5;241m=\u001b[39m \u001b[38;5;28mself\u001b[39m\u001b[38;5;241m.\u001b[39mconnection \u001b[38;5;129;01mor\u001b[39;00m pool\u001b[38;5;241m.\u001b[39mget_connection(command_name, \u001b[38;5;241m*\u001b[39m\u001b[38;5;241m*\u001b[39moptions)\n\u001b[0;32m    566\u001b[0m \u001b[38;5;28;01mtry\u001b[39;00m:\n",
      "File \u001b[1;32m~\\AppData\\Roaming\\Python\\Python310\\site-packages\\redis\\connection.py:1422\u001b[0m, in \u001b[0;36mConnectionPool.get_connection\u001b[1;34m(self, command_name, *keys, **options)\u001b[0m\n\u001b[0;32m   1420\u001b[0m \u001b[38;5;28;01mtry\u001b[39;00m:\n\u001b[0;32m   1421\u001b[0m     \u001b[38;5;66;03m# ensure this connection is connected to Redis\u001b[39;00m\n\u001b[1;32m-> 1422\u001b[0m     \u001b[43mconnection\u001b[49m\u001b[38;5;241;43m.\u001b[39;49m\u001b[43mconnect\u001b[49m\u001b[43m(\u001b[49m\u001b[43m)\u001b[49m\n\u001b[0;32m   1423\u001b[0m     \u001b[38;5;66;03m# connections that the pool provides should be ready to send\u001b[39;00m\n\u001b[0;32m   1424\u001b[0m     \u001b[38;5;66;03m# a command. if not, the connection was either returned to the\u001b[39;00m\n\u001b[0;32m   1425\u001b[0m     \u001b[38;5;66;03m# pool before all data has been read or the socket has been\u001b[39;00m\n\u001b[0;32m   1426\u001b[0m     \u001b[38;5;66;03m# closed. either way, reconnect and verify everything is good.\u001b[39;00m\n",
      "File \u001b[1;32m~\\AppData\\Roaming\\Python\\Python310\\site-packages\\redis\\connection.py:363\u001b[0m, in \u001b[0;36mAbstractConnection.connect\u001b[1;34m(self)\u001b[0m\n\u001b[0;32m    362\u001b[0m \u001b[38;5;28;01mexcept\u001b[39;00m \u001b[38;5;167;01mOSError\u001b[39;00m \u001b[38;5;28;01mas\u001b[39;00m e:\n\u001b[1;32m--> 363\u001b[0m     \u001b[38;5;28;01mraise\u001b[39;00m \u001b[38;5;167;01mConnectionError\u001b[39;00m(\u001b[38;5;28mself\u001b[39m\u001b[38;5;241m.\u001b[39m_error_message(e))\n\u001b[0;32m    365\u001b[0m \u001b[38;5;28mself\u001b[39m\u001b[38;5;241m.\u001b[39m_sock \u001b[38;5;241m=\u001b[39m sock\n",
      "\u001b[1;31mConnectionError\u001b[0m: Error 10061 connecting to localhost:6379. No connection could be made because the target machine actively refused it.",
      "\nThe above exception was the direct cause of the following exception:\n",
      "\u001b[1;31mOperationalError\u001b[0m                          Traceback (most recent call last)",
      "Input \u001b[1;32mIn [34]\u001b[0m, in \u001b[0;36m<cell line: 27>\u001b[1;34m()\u001b[0m\n\u001b[0;32m     28\u001b[0m articles \u001b[38;5;241m=\u001b[39m parse_feed(feed)\n\u001b[0;32m     29\u001b[0m \u001b[38;5;28;01mfor\u001b[39;00m article \u001b[38;5;129;01min\u001b[39;00m articles:\n\u001b[1;32m---> 30\u001b[0m     \u001b[43mprocess_article\u001b[49m\u001b[38;5;241;43m.\u001b[39;49m\u001b[43mdelay\u001b[49m\u001b[43m(\u001b[49m\u001b[43marticle\u001b[49m\u001b[43m)\u001b[49m\n",
      "File \u001b[1;32m~\\AppData\\Roaming\\Python\\Python310\\site-packages\\celery\\app\\task.py:444\u001b[0m, in \u001b[0;36mTask.delay\u001b[1;34m(self, *args, **kwargs)\u001b[0m\n\u001b[0;32m    433\u001b[0m \u001b[38;5;28;01mdef\u001b[39;00m \u001b[38;5;21mdelay\u001b[39m(\u001b[38;5;28mself\u001b[39m, \u001b[38;5;241m*\u001b[39margs, \u001b[38;5;241m*\u001b[39m\u001b[38;5;241m*\u001b[39mkwargs):\n\u001b[0;32m    434\u001b[0m     \u001b[38;5;124;03m\"\"\"Star argument version of :meth:`apply_async`.\u001b[39;00m\n\u001b[0;32m    435\u001b[0m \n\u001b[0;32m    436\u001b[0m \u001b[38;5;124;03m    Does not support the extra options enabled by :meth:`apply_async`.\u001b[39;00m\n\u001b[1;32m   (...)\u001b[0m\n\u001b[0;32m    442\u001b[0m \u001b[38;5;124;03m        celery.result.AsyncResult: Future promise.\u001b[39;00m\n\u001b[0;32m    443\u001b[0m \u001b[38;5;124;03m    \"\"\"\u001b[39;00m\n\u001b[1;32m--> 444\u001b[0m     \u001b[38;5;28;01mreturn\u001b[39;00m \u001b[38;5;28;43mself\u001b[39;49m\u001b[38;5;241;43m.\u001b[39;49m\u001b[43mapply_async\u001b[49m\u001b[43m(\u001b[49m\u001b[43margs\u001b[49m\u001b[43m,\u001b[49m\u001b[43m \u001b[49m\u001b[43mkwargs\u001b[49m\u001b[43m)\u001b[49m\n",
      "File \u001b[1;32m~\\AppData\\Roaming\\Python\\Python310\\site-packages\\celery\\app\\task.py:594\u001b[0m, in \u001b[0;36mTask.apply_async\u001b[1;34m(self, args, kwargs, task_id, producer, link, link_error, shadow, **options)\u001b[0m\n\u001b[0;32m    591\u001b[0m         \u001b[38;5;28;01mreturn\u001b[39;00m \u001b[38;5;28mself\u001b[39m\u001b[38;5;241m.\u001b[39mapply(args, kwargs, task_id\u001b[38;5;241m=\u001b[39mtask_id \u001b[38;5;129;01mor\u001b[39;00m uuid(),\n\u001b[0;32m    592\u001b[0m                           link\u001b[38;5;241m=\u001b[39mlink, link_error\u001b[38;5;241m=\u001b[39mlink_error, \u001b[38;5;241m*\u001b[39m\u001b[38;5;241m*\u001b[39moptions)\n\u001b[0;32m    593\u001b[0m \u001b[38;5;28;01melse\u001b[39;00m:\n\u001b[1;32m--> 594\u001b[0m     \u001b[38;5;28;01mreturn\u001b[39;00m app\u001b[38;5;241m.\u001b[39msend_task(\n\u001b[0;32m    595\u001b[0m         \u001b[38;5;28mself\u001b[39m\u001b[38;5;241m.\u001b[39mname, args, kwargs, task_id\u001b[38;5;241m=\u001b[39mtask_id, producer\u001b[38;5;241m=\u001b[39mproducer,\n\u001b[0;32m    596\u001b[0m         link\u001b[38;5;241m=\u001b[39mlink, link_error\u001b[38;5;241m=\u001b[39mlink_error, result_cls\u001b[38;5;241m=\u001b[39m\u001b[38;5;28mself\u001b[39m\u001b[38;5;241m.\u001b[39mAsyncResult,\n\u001b[0;32m    597\u001b[0m         shadow\u001b[38;5;241m=\u001b[39mshadow, task_type\u001b[38;5;241m=\u001b[39m\u001b[38;5;28mself\u001b[39m,\n\u001b[0;32m    598\u001b[0m         \u001b[38;5;241m*\u001b[39m\u001b[38;5;241m*\u001b[39moptions\n\u001b[0;32m    599\u001b[0m     )\n",
      "File \u001b[1;32m~\\AppData\\Roaming\\Python\\Python310\\site-packages\\celery\\app\\base.py:801\u001b[0m, in \u001b[0;36mCelery.send_task\u001b[1;34m(self, name, args, kwargs, countdown, eta, task_id, producer, connection, router, result_cls, expires, publisher, link, link_error, add_to_parent, group_id, group_index, retries, chord, reply_to, time_limit, soft_time_limit, root_id, parent_id, route_name, shadow, chain, task_type, replaced_task_nesting, **options)\u001b[0m\n\u001b[0;32m    799\u001b[0m         \u001b[38;5;28;01mif\u001b[39;00m \u001b[38;5;129;01mnot\u001b[39;00m ignore_result:\n\u001b[0;32m    800\u001b[0m             \u001b[38;5;28mself\u001b[39m\u001b[38;5;241m.\u001b[39mbackend\u001b[38;5;241m.\u001b[39mon_task_call(P, task_id)\n\u001b[1;32m--> 801\u001b[0m         amqp\u001b[38;5;241m.\u001b[39msend_task_message(P, name, message, \u001b[38;5;241m*\u001b[39m\u001b[38;5;241m*\u001b[39moptions)\n\u001b[0;32m    802\u001b[0m result \u001b[38;5;241m=\u001b[39m (result_cls \u001b[38;5;129;01mor\u001b[39;00m \u001b[38;5;28mself\u001b[39m\u001b[38;5;241m.\u001b[39mAsyncResult)(task_id)\n\u001b[0;32m    803\u001b[0m \u001b[38;5;66;03m# We avoid using the constructor since a custom result class\u001b[39;00m\n\u001b[0;32m    804\u001b[0m \u001b[38;5;66;03m# can be used, in which case the constructor may still use\u001b[39;00m\n\u001b[0;32m    805\u001b[0m \u001b[38;5;66;03m# the old signature.\u001b[39;00m\n",
      "File \u001b[1;32m~\\AppData\\Roaming\\Python\\Python310\\site-packages\\celery\\app\\amqp.py:518\u001b[0m, in \u001b[0;36mAMQP._create_task_sender.<locals>.send_task_message\u001b[1;34m(producer, name, message, exchange, routing_key, queue, event_dispatcher, retry, retry_policy, serializer, delivery_mode, compression, declare, headers, exchange_type, **kwargs)\u001b[0m\n\u001b[0;32m    511\u001b[0m \u001b[38;5;28;01mif\u001b[39;00m before_receivers:\n\u001b[0;32m    512\u001b[0m     send_before_publish(\n\u001b[0;32m    513\u001b[0m         sender\u001b[38;5;241m=\u001b[39mname, body\u001b[38;5;241m=\u001b[39mbody,\n\u001b[0;32m    514\u001b[0m         exchange\u001b[38;5;241m=\u001b[39mexchange, routing_key\u001b[38;5;241m=\u001b[39mrouting_key,\n\u001b[0;32m    515\u001b[0m         declare\u001b[38;5;241m=\u001b[39mdeclare, headers\u001b[38;5;241m=\u001b[39mheaders2,\n\u001b[0;32m    516\u001b[0m         properties\u001b[38;5;241m=\u001b[39mproperties, retry_policy\u001b[38;5;241m=\u001b[39mretry_policy,\n\u001b[0;32m    517\u001b[0m     )\n\u001b[1;32m--> 518\u001b[0m ret \u001b[38;5;241m=\u001b[39m producer\u001b[38;5;241m.\u001b[39mpublish(\n\u001b[0;32m    519\u001b[0m     body,\n\u001b[0;32m    520\u001b[0m     exchange\u001b[38;5;241m=\u001b[39mexchange,\n\u001b[0;32m    521\u001b[0m     routing_key\u001b[38;5;241m=\u001b[39mrouting_key,\n\u001b[0;32m    522\u001b[0m     serializer\u001b[38;5;241m=\u001b[39mserializer \u001b[38;5;129;01mor\u001b[39;00m default_serializer,\n\u001b[0;32m    523\u001b[0m     compression\u001b[38;5;241m=\u001b[39mcompression \u001b[38;5;129;01mor\u001b[39;00m default_compressor,\n\u001b[0;32m    524\u001b[0m     retry\u001b[38;5;241m=\u001b[39mretry, retry_policy\u001b[38;5;241m=\u001b[39m_rp,\n\u001b[0;32m    525\u001b[0m     delivery_mode\u001b[38;5;241m=\u001b[39mdelivery_mode, declare\u001b[38;5;241m=\u001b[39mdeclare,\n\u001b[0;32m    526\u001b[0m     headers\u001b[38;5;241m=\u001b[39mheaders2,\n\u001b[0;32m    527\u001b[0m     \u001b[38;5;241m*\u001b[39m\u001b[38;5;241m*\u001b[39mproperties\n\u001b[0;32m    528\u001b[0m )\n\u001b[0;32m    529\u001b[0m \u001b[38;5;28;01mif\u001b[39;00m after_receivers:\n\u001b[0;32m    530\u001b[0m     send_after_publish(sender\u001b[38;5;241m=\u001b[39mname, body\u001b[38;5;241m=\u001b[39mbody, headers\u001b[38;5;241m=\u001b[39mheaders2,\n\u001b[0;32m    531\u001b[0m                        exchange\u001b[38;5;241m=\u001b[39mexchange, routing_key\u001b[38;5;241m=\u001b[39mrouting_key)\n",
      "File \u001b[1;32m~\\AppData\\Roaming\\Python\\Python310\\site-packages\\kombu\\messaging.py:186\u001b[0m, in \u001b[0;36mProducer.publish\u001b[1;34m(self, body, routing_key, delivery_mode, mandatory, immediate, priority, content_type, content_encoding, serializer, headers, compression, exchange, retry, retry_policy, declare, expiration, timeout, **properties)\u001b[0m\n\u001b[0;32m    184\u001b[0m \u001b[38;5;28;01mif\u001b[39;00m retry:\n\u001b[0;32m    185\u001b[0m     _publish \u001b[38;5;241m=\u001b[39m \u001b[38;5;28mself\u001b[39m\u001b[38;5;241m.\u001b[39mconnection\u001b[38;5;241m.\u001b[39mensure(\u001b[38;5;28mself\u001b[39m, _publish, \u001b[38;5;241m*\u001b[39m\u001b[38;5;241m*\u001b[39mretry_policy)\n\u001b[1;32m--> 186\u001b[0m \u001b[38;5;28;01mreturn\u001b[39;00m \u001b[43m_publish\u001b[49m\u001b[43m(\u001b[49m\n\u001b[0;32m    187\u001b[0m \u001b[43m    \u001b[49m\u001b[43mbody\u001b[49m\u001b[43m,\u001b[49m\u001b[43m \u001b[49m\u001b[43mpriority\u001b[49m\u001b[43m,\u001b[49m\u001b[43m \u001b[49m\u001b[43mcontent_type\u001b[49m\u001b[43m,\u001b[49m\u001b[43m \u001b[49m\u001b[43mcontent_encoding\u001b[49m\u001b[43m,\u001b[49m\n\u001b[0;32m    188\u001b[0m \u001b[43m    \u001b[49m\u001b[43mheaders\u001b[49m\u001b[43m,\u001b[49m\u001b[43m \u001b[49m\u001b[43mproperties\u001b[49m\u001b[43m,\u001b[49m\u001b[43m \u001b[49m\u001b[43mrouting_key\u001b[49m\u001b[43m,\u001b[49m\u001b[43m \u001b[49m\u001b[43mmandatory\u001b[49m\u001b[43m,\u001b[49m\u001b[43m \u001b[49m\u001b[43mimmediate\u001b[49m\u001b[43m,\u001b[49m\n\u001b[0;32m    189\u001b[0m \u001b[43m    \u001b[49m\u001b[43mexchange_name\u001b[49m\u001b[43m,\u001b[49m\u001b[43m \u001b[49m\u001b[43mdeclare\u001b[49m\u001b[43m,\u001b[49m\u001b[43m \u001b[49m\u001b[43mtimeout\u001b[49m\n\u001b[0;32m    190\u001b[0m \u001b[43m\u001b[49m\u001b[43m)\u001b[49m\n",
      "File \u001b[1;32m~\\AppData\\Roaming\\Python\\Python310\\site-packages\\kombu\\connection.py:556\u001b[0m, in \u001b[0;36mConnection.ensure.<locals>._ensured\u001b[1;34m(*args, **kwargs)\u001b[0m\n\u001b[0;32m    554\u001b[0m \u001b[38;5;28;01mfor\u001b[39;00m retries \u001b[38;5;129;01min\u001b[39;00m count(\u001b[38;5;241m0\u001b[39m):  \u001b[38;5;66;03m# for infinity\u001b[39;00m\n\u001b[0;32m    555\u001b[0m     \u001b[38;5;28;01mtry\u001b[39;00m:\n\u001b[1;32m--> 556\u001b[0m         \u001b[38;5;28;01mreturn\u001b[39;00m fun(\u001b[38;5;241m*\u001b[39margs, \u001b[38;5;241m*\u001b[39m\u001b[38;5;241m*\u001b[39mkwargs)\n\u001b[0;32m    557\u001b[0m     \u001b[38;5;28;01mexcept\u001b[39;00m retry_errors \u001b[38;5;28;01mas\u001b[39;00m exc:\n\u001b[0;32m    558\u001b[0m         \u001b[38;5;28;01mif\u001b[39;00m max_retries \u001b[38;5;129;01mis\u001b[39;00m \u001b[38;5;129;01mnot\u001b[39;00m \u001b[38;5;28;01mNone\u001b[39;00m \u001b[38;5;129;01mand\u001b[39;00m retries \u001b[38;5;241m>\u001b[39m\u001b[38;5;241m=\u001b[39m max_retries:\n",
      "File \u001b[1;32m~\\AppData\\Roaming\\Python\\Python310\\site-packages\\kombu\\messaging.py:195\u001b[0m, in \u001b[0;36mProducer._publish\u001b[1;34m(self, body, priority, content_type, content_encoding, headers, properties, routing_key, mandatory, immediate, exchange, declare, timeout)\u001b[0m\n\u001b[0;32m    192\u001b[0m \u001b[38;5;28;01mdef\u001b[39;00m \u001b[38;5;21m_publish\u001b[39m(\u001b[38;5;28mself\u001b[39m, body, priority, content_type, content_encoding,\n\u001b[0;32m    193\u001b[0m              headers, properties, routing_key, mandatory,\n\u001b[0;32m    194\u001b[0m              immediate, exchange, declare, timeout\u001b[38;5;241m=\u001b[39m\u001b[38;5;28;01mNone\u001b[39;00m):\n\u001b[1;32m--> 195\u001b[0m     channel \u001b[38;5;241m=\u001b[39m \u001b[38;5;28;43mself\u001b[39;49m\u001b[38;5;241;43m.\u001b[39;49m\u001b[43mchannel\u001b[49m\n\u001b[0;32m    196\u001b[0m     message \u001b[38;5;241m=\u001b[39m channel\u001b[38;5;241m.\u001b[39mprepare_message(\n\u001b[0;32m    197\u001b[0m         body, priority, content_type,\n\u001b[0;32m    198\u001b[0m         content_encoding, headers, properties,\n\u001b[0;32m    199\u001b[0m     )\n\u001b[0;32m    200\u001b[0m     \u001b[38;5;28;01mif\u001b[39;00m declare:\n",
      "File \u001b[1;32m~\\AppData\\Roaming\\Python\\Python310\\site-packages\\kombu\\messaging.py:218\u001b[0m, in \u001b[0;36mProducer._get_channel\u001b[1;34m(self)\u001b[0m\n\u001b[0;32m    216\u001b[0m channel \u001b[38;5;241m=\u001b[39m \u001b[38;5;28mself\u001b[39m\u001b[38;5;241m.\u001b[39m_channel\n\u001b[0;32m    217\u001b[0m \u001b[38;5;28;01mif\u001b[39;00m \u001b[38;5;28misinstance\u001b[39m(channel, ChannelPromise):\n\u001b[1;32m--> 218\u001b[0m     channel \u001b[38;5;241m=\u001b[39m \u001b[38;5;28mself\u001b[39m\u001b[38;5;241m.\u001b[39m_channel \u001b[38;5;241m=\u001b[39m \u001b[43mchannel\u001b[49m\u001b[43m(\u001b[49m\u001b[43m)\u001b[49m\n\u001b[0;32m    219\u001b[0m     \u001b[38;5;28mself\u001b[39m\u001b[38;5;241m.\u001b[39mexchange\u001b[38;5;241m.\u001b[39mrevive(channel)\n\u001b[0;32m    220\u001b[0m     \u001b[38;5;28;01mif\u001b[39;00m \u001b[38;5;28mself\u001b[39m\u001b[38;5;241m.\u001b[39mon_return:\n",
      "File \u001b[1;32m~\\AppData\\Roaming\\Python\\Python310\\site-packages\\kombu\\utils\\functional.py:34\u001b[0m, in \u001b[0;36mChannelPromise.__call__\u001b[1;34m(self)\u001b[0m\n\u001b[0;32m     32\u001b[0m     \u001b[38;5;28;01mreturn\u001b[39;00m \u001b[38;5;28mself\u001b[39m\u001b[38;5;241m.\u001b[39m__value__\n\u001b[0;32m     33\u001b[0m \u001b[38;5;28;01mexcept\u001b[39;00m \u001b[38;5;167;01mAttributeError\u001b[39;00m:\n\u001b[1;32m---> 34\u001b[0m     value \u001b[38;5;241m=\u001b[39m \u001b[38;5;28mself\u001b[39m\u001b[38;5;241m.\u001b[39m__value__ \u001b[38;5;241m=\u001b[39m \u001b[38;5;28;43mself\u001b[39;49m\u001b[38;5;241;43m.\u001b[39;49m\u001b[43m__contract__\u001b[49m\u001b[43m(\u001b[49m\u001b[43m)\u001b[49m\n\u001b[0;32m     35\u001b[0m     \u001b[38;5;28;01mreturn\u001b[39;00m value\n",
      "File \u001b[1;32m~\\AppData\\Roaming\\Python\\Python310\\site-packages\\kombu\\messaging.py:234\u001b[0m, in \u001b[0;36mProducer.revive.<locals>.<lambda>\u001b[1;34m()\u001b[0m\n\u001b[0;32m    232\u001b[0m     connection \u001b[38;5;241m=\u001b[39m channel\n\u001b[0;32m    233\u001b[0m     \u001b[38;5;28mself\u001b[39m\u001b[38;5;241m.\u001b[39m__connection__ \u001b[38;5;241m=\u001b[39m connection\n\u001b[1;32m--> 234\u001b[0m     channel \u001b[38;5;241m=\u001b[39m ChannelPromise(\u001b[38;5;28;01mlambda\u001b[39;00m: \u001b[43mconnection\u001b[49m\u001b[38;5;241;43m.\u001b[39;49m\u001b[43mdefault_channel\u001b[49m)\n\u001b[0;32m    235\u001b[0m \u001b[38;5;28;01mif\u001b[39;00m \u001b[38;5;28misinstance\u001b[39m(channel, ChannelPromise):\n\u001b[0;32m    236\u001b[0m     \u001b[38;5;28mself\u001b[39m\u001b[38;5;241m.\u001b[39m_channel \u001b[38;5;241m=\u001b[39m channel\n",
      "File \u001b[1;32m~\\AppData\\Roaming\\Python\\Python310\\site-packages\\kombu\\connection.py:953\u001b[0m, in \u001b[0;36mConnection.default_channel\u001b[1;34m(self)\u001b[0m\n\u001b[0;32m    951\u001b[0m \u001b[38;5;66;03m# make sure we're still connected, and if not refresh.\u001b[39;00m\n\u001b[0;32m    952\u001b[0m conn_opts \u001b[38;5;241m=\u001b[39m \u001b[38;5;28mself\u001b[39m\u001b[38;5;241m.\u001b[39m_extract_failover_opts()\n\u001b[1;32m--> 953\u001b[0m \u001b[38;5;28mself\u001b[39m\u001b[38;5;241m.\u001b[39m_ensure_connection(\u001b[38;5;241m*\u001b[39m\u001b[38;5;241m*\u001b[39mconn_opts)\n\u001b[0;32m    955\u001b[0m \u001b[38;5;28;01mif\u001b[39;00m \u001b[38;5;28mself\u001b[39m\u001b[38;5;241m.\u001b[39m_default_channel \u001b[38;5;129;01mis\u001b[39;00m \u001b[38;5;28;01mNone\u001b[39;00m:\n\u001b[0;32m    956\u001b[0m     \u001b[38;5;28mself\u001b[39m\u001b[38;5;241m.\u001b[39m_default_channel \u001b[38;5;241m=\u001b[39m \u001b[38;5;28mself\u001b[39m\u001b[38;5;241m.\u001b[39mchannel()\n",
      "File \u001b[1;32m~\\AppData\\Roaming\\Python\\Python310\\site-packages\\kombu\\connection.py:458\u001b[0m, in \u001b[0;36mConnection._ensure_connection\u001b[1;34m(self, errback, max_retries, interval_start, interval_step, interval_max, callback, reraise_as_library_errors, timeout)\u001b[0m\n\u001b[0;32m    456\u001b[0m \u001b[38;5;28;01mif\u001b[39;00m \u001b[38;5;129;01mnot\u001b[39;00m reraise_as_library_errors:\n\u001b[0;32m    457\u001b[0m     ctx \u001b[38;5;241m=\u001b[39m \u001b[38;5;28mself\u001b[39m\u001b[38;5;241m.\u001b[39m_dummy_context\n\u001b[1;32m--> 458\u001b[0m \u001b[38;5;28;01mwith\u001b[39;00m ctx():\n\u001b[0;32m    459\u001b[0m     \u001b[38;5;28;01mreturn\u001b[39;00m retry_over_time(\n\u001b[0;32m    460\u001b[0m         \u001b[38;5;28mself\u001b[39m\u001b[38;5;241m.\u001b[39m_connection_factory, \u001b[38;5;28mself\u001b[39m\u001b[38;5;241m.\u001b[39mrecoverable_connection_errors,\n\u001b[0;32m    461\u001b[0m         (), {}, on_error, max_retries,\n\u001b[0;32m    462\u001b[0m         interval_start, interval_step, interval_max,\n\u001b[0;32m    463\u001b[0m         callback, timeout\u001b[38;5;241m=\u001b[39mtimeout\n\u001b[0;32m    464\u001b[0m     )\n",
      "File \u001b[1;32mC:\\Program Files\\Python310\\lib\\contextlib.py:153\u001b[0m, in \u001b[0;36m_GeneratorContextManager.__exit__\u001b[1;34m(self, typ, value, traceback)\u001b[0m\n\u001b[0;32m    151\u001b[0m     value \u001b[38;5;241m=\u001b[39m typ()\n\u001b[0;32m    152\u001b[0m \u001b[38;5;28;01mtry\u001b[39;00m:\n\u001b[1;32m--> 153\u001b[0m     \u001b[38;5;28;43mself\u001b[39;49m\u001b[38;5;241;43m.\u001b[39;49m\u001b[43mgen\u001b[49m\u001b[38;5;241;43m.\u001b[39;49m\u001b[43mthrow\u001b[49m\u001b[43m(\u001b[49m\u001b[43mtyp\u001b[49m\u001b[43m,\u001b[49m\u001b[43m \u001b[49m\u001b[43mvalue\u001b[49m\u001b[43m,\u001b[49m\u001b[43m \u001b[49m\u001b[43mtraceback\u001b[49m\u001b[43m)\u001b[49m\n\u001b[0;32m    154\u001b[0m \u001b[38;5;28;01mexcept\u001b[39;00m \u001b[38;5;167;01mStopIteration\u001b[39;00m \u001b[38;5;28;01mas\u001b[39;00m exc:\n\u001b[0;32m    155\u001b[0m     \u001b[38;5;66;03m# Suppress StopIteration *unless* it's the same exception that\u001b[39;00m\n\u001b[0;32m    156\u001b[0m     \u001b[38;5;66;03m# was passed to throw().  This prevents a StopIteration\u001b[39;00m\n\u001b[0;32m    157\u001b[0m     \u001b[38;5;66;03m# raised inside the \"with\" statement from being suppressed.\u001b[39;00m\n\u001b[0;32m    158\u001b[0m     \u001b[38;5;28;01mreturn\u001b[39;00m exc \u001b[38;5;129;01mis\u001b[39;00m \u001b[38;5;129;01mnot\u001b[39;00m value\n",
      "File \u001b[1;32m~\\AppData\\Roaming\\Python\\Python310\\site-packages\\kombu\\connection.py:476\u001b[0m, in \u001b[0;36mConnection._reraise_as_library_errors\u001b[1;34m(self, ConnectionError, ChannelError)\u001b[0m\n\u001b[0;32m    474\u001b[0m     \u001b[38;5;28;01mraise\u001b[39;00m\n\u001b[0;32m    475\u001b[0m \u001b[38;5;28;01mexcept\u001b[39;00m \u001b[38;5;28mself\u001b[39m\u001b[38;5;241m.\u001b[39mrecoverable_connection_errors \u001b[38;5;28;01mas\u001b[39;00m exc:\n\u001b[1;32m--> 476\u001b[0m     \u001b[38;5;28;01mraise\u001b[39;00m \u001b[38;5;167;01mConnectionError\u001b[39;00m(\u001b[38;5;28mstr\u001b[39m(exc)) \u001b[38;5;28;01mfrom\u001b[39;00m \u001b[38;5;21;01mexc\u001b[39;00m\n\u001b[0;32m    477\u001b[0m \u001b[38;5;28;01mexcept\u001b[39;00m \u001b[38;5;28mself\u001b[39m\u001b[38;5;241m.\u001b[39mrecoverable_channel_errors \u001b[38;5;28;01mas\u001b[39;00m exc:\n\u001b[0;32m    478\u001b[0m     \u001b[38;5;28;01mraise\u001b[39;00m ChannelError(\u001b[38;5;28mstr\u001b[39m(exc)) \u001b[38;5;28;01mfrom\u001b[39;00m \u001b[38;5;21;01mexc\u001b[39;00m\n",
      "\u001b[1;31mOperationalError\u001b[0m: Error 10061 connecting to localhost:6379. No connection could be made because the target machine actively refused it."
     ]
    }
   ],
   "source": [
    "from celery import Celery\n",
    "\n",
    "# Create a new Celery instance\n",
    "app = Celery('news_collector', broker='redis://localhost:6379/0')\n",
    "\n",
    "# You can configure other Celery options if needed\n",
    "app.conf.update(\n",
    "    task_routes={\n",
    "        'news_collector.*': {'queue': 'news'}\n",
    "    },\n",
    "    task_serializer='json',\n",
    "    result_serializer='json',\n",
    "    accept_content=['json'],\n",
    "    timezone='UTC',\n",
    "    enable_utc=True\n",
    ")\n",
    "# from your_parser_script import parse_feed, store_article, categorize_article\n",
    "\n",
    "app = Celery('news_collector', broker='redis://localhost:6379/0')\n",
    "\n",
    "@app.task\n",
    "def process_article(article):\n",
    "    category = categorize_article(article['content'])\n",
    "    store_article(article, category)\n",
    "\n",
    "# Queueing articles for processing\n",
    "for feed in rss_fields:\n",
    "    articles = parse_feed(feed)\n",
    "    for article in articles:\n",
    "        process_article.delay(article)  # Asynchronous task\n"
   ]
  },
  {
   "cell_type": "markdown",
   "metadata": {},
   "source": [
    "task queueing with celery and redis"
   ]
  },
  {
   "cell_type": "code",
   "execution_count": null,
   "metadata": {},
   "outputs": [],
   "source": [
    "import logging\n",
    "\n",
    "logging.basicConfig(filename='news_collector.log', level=logging.INFO)\n",
    "\n",
    "def store_article(article, category):\n",
    "    try:\n",
    "        cursor.execute('''INSERT INTO articles (title, content, published, source, url, category) \n",
    "                          VALUES (?, ?, ?, ?, ?, ?)''', \n",
    "                          (article['title'], article['content'], article['published'], article['source'], article['link'], category))\n",
    "        conn.commit()\n",
    "        logging.info(f\"Article stored: {article['title']}\")\n",
    "    except sqlite3.IntegrityError:\n",
    "        logging.warning(f\"Duplicate article: {article['title']}\")\n",
    "    except Exception as e:\n",
    "        logging.error(f\"Error storing article: {e}\")\n"
   ]
  },
  {
   "cell_type": "markdown",
   "metadata": {},
   "source": [
    "logging and error handling"
   ]
  },
  {
   "cell_type": "code",
   "execution_count": null,
   "metadata": {},
   "outputs": [],
   "source": [
    "celery -A news_collector worker --loglevel=info\n"
   ]
  },
  {
   "cell_type": "markdown",
   "metadata": {},
   "source": [
    "application running"
   ]
  },
  {
   "cell_type": "code",
   "execution_count": null,
   "metadata": {},
   "outputs": [],
   "source": [
    "Python Code: Includes feed parsing, database management, categorization, task queueing, and logging.\n",
    "\n",
    "Database Dump: To export data from SQLite to CSV:\n",
    "\n",
    "bash\n",
    "Copy code\n",
    "sqlite3 news_articles.db \".mode csv\" \".headers on\" \".output articles.csv\" \"SELECT * FROM articles;\"\n",
    "Documentation: Ensure you provide explanations for each script/module, logging setup, and how Celery manages tasks.\n",
    "\n",
    "This full application should meet the requirements for your assignment!"
   ]
  },
  {
   "cell_type": "code",
   "execution_count": null,
   "metadata": {},
   "outputs": [],
   "source": []
  }
 ],
 "metadata": {
  "kernelspec": {
   "display_name": "Python 3 (ipykernel)",
   "language": "python",
   "name": "python3"
  },
  "language_info": {
   "codemirror_mode": {
    "name": "ipython",
    "version": 3
   },
   "file_extension": ".py",
   "mimetype": "text/x-python",
   "name": "python",
   "nbconvert_exporter": "python",
   "pygments_lexer": "ipython3",
   "version": "3.10.4"
  }
 },
 "nbformat": 4,
 "nbformat_minor": 2
}
