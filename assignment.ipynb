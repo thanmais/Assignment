{
 "cells": [
  {
   "cell_type": "code",
   "execution_count": 1,
   "metadata": {},
   "outputs": [
    {
     "name": "stdout",
     "output_type": "stream",
     "text": [
      "Requirement already satisfied: redis in c:\\python310\\lib\\site-packages (5.1.1)\n",
      "Requirement already satisfied: async-timeout>=4.0.3 in c:\\python310\\lib\\site-packages (from redis) (4.0.3)\n"
     ]
    },
    {
     "name": "stderr",
     "output_type": "stream",
     "text": [
      "WARNING: Ignoring invalid distribution -umpy (c:\\python310\\lib\\site-packages)\n",
      "WARNING: Ignoring invalid distribution -qdm (c:\\python310\\lib\\site-packages)\n",
      "WARNING: Ignoring invalid distribution -umpy (c:\\python310\\lib\\site-packages)\n",
      "WARNING: Ignoring invalid distribution -qdm (c:\\python310\\lib\\site-packages)\n",
      "WARNING: Ignoring invalid distribution -umpy (c:\\python310\\lib\\site-packages)\n",
      "WARNING: Ignoring invalid distribution -qdm (c:\\python310\\lib\\site-packages)\n",
      "WARNING: Ignoring invalid distribution -umpy (c:\\python310\\lib\\site-packages)\n",
      "WARNING: Ignoring invalid distribution -qdm (c:\\python310\\lib\\site-packages)\n",
      "WARNING: Ignoring invalid distribution -umpy (c:\\python310\\lib\\site-packages)\n",
      "WARNING: Ignoring invalid distribution -qdm (c:\\python310\\lib\\site-packages)\n",
      "WARNING: Ignoring invalid distribution -umpy (c:\\python310\\lib\\site-packages)\n",
      "WARNING: Ignoring invalid distribution -qdm (c:\\python310\\lib\\site-packages)\n",
      "\n",
      "[notice] A new release of pip available: 22.3.1 -> 24.2\n",
      "[notice] To update, run: python.exe -m pip install --upgrade pip\n"
     ]
    }
   ],
   "source": [
    "!pip3 install redis"
   ]
  },
  {
   "cell_type": "code",
   "execution_count": 2,
   "metadata": {},
   "outputs": [
    {
     "name": "stderr",
     "output_type": "stream",
     "text": [
      "c:\\Python310\\lib\\site-packages\\requests\\__init__.py:109: RequestsDependencyWarning: urllib3 (2.2.3) or chardet (None)/charset_normalizer (2.1.1) doesn't match a supported version!\n",
      "  warnings.warn(\n"
     ]
    }
   ],
   "source": [
    "import feedparser\n",
    "import newspaper\n",
    "from newspaper import Article\n",
    "from datetime import datetime"
   ]
  },
  {
   "cell_type": "markdown",
   "metadata": {},
   "source": [
    "Required libraries\n"
   ]
  },
  {
   "cell_type": "code",
   "execution_count": 3,
   "metadata": {},
   "outputs": [],
   "source": [
    "rss_fields=[\"http://rss.cnn.com/rss/cnn_topstories.rss\", \"http://qz.com/feed\", \"http://feeds.foxnews.com/foxnews/politics\", \"http://feeds.reuters.com/reuters/businessNews\", \"http://feeds.feedburner.com/NewshourWorld\", \"https://feeds.bbci.co.uk/news/world/asia/india/rss.xml\"]"
   ]
  },
  {
   "cell_type": "code",
   "execution_count": 4,
   "metadata": {},
   "outputs": [],
   "source": [
    "def parse_feed(feed_url):\n",
    "    feed=feedparser.parse(feed_url)\n",
    "    articles=[]\n",
    "    \n",
    "    for entry in feed.entries:\n",
    "        articles ={\n",
    "          'title': entry.title,\n",
    "            'link': entry.link,\n",
    "            'published': entry.published if 'published' in entry else None,\n",
    "            'source': feed_url  \n",
    "        }\n",
    "        \n",
    "        try:\n",
    "            news_article = Article(entry.link)\n",
    "            news_article.download()\n",
    "            news_article.parse()\n",
    "            article = {}\n",
    "            article['content'] = news_article.text\n",
    "        except Exception as e:\n",
    "            article['content'] = None  \n",
    "        articles.update(article)\n",
    "    \n",
    "    return articles\n",
    "    "
   ]
  },
  {
   "cell_type": "code",
   "execution_count": null,
   "metadata": {},
   "outputs": [],
   "source": [
    "articles_fields = []\n",
    "for field in rss_fields:\n",
    "    article = parse_feed(field)\n",
    "    articles_fields.append(article)\n",
    "    print(field)\n",
    "    \n",
    "print(arcticles_fields)"
   ]
  },
  {
   "cell_type": "code",
   "execution_count": 27,
   "metadata": {},
   "outputs": [
    {
     "name": "stdout",
     "output_type": "stream",
     "text": [
      "[{'title': \"Review: 'Barry' takes a whack at its farewell season\", 'link': 'https://www.cnn.com/2023/04/14/entertainment/barry-season-4-review/index.html', 'published': 'Fri, 14 Apr 2023 12:33:08 GMT', 'source': 'http://rss.cnn.com/rss/cnn_topstories.rss', 'content': 'CNN —\\n\\n“Barry” has taken chances from the very beginning, which is certainly true of a fourth and final season that picks up where the third left off, with its hitman-turned-wannabe actor getting arrested. That paves the way for an even darker season that accentuates the show’s ensemble aspect while leaning a little too heavily on blurring lines with flights of fancy.\\n\\nThanks to “Succession,” “Barry” won’t be the highest-profile goodbye on HBO this spring, but the Emmy-nominated series isn’t chopped liver either. It’s fair to say, in fact, that while these episodes don’t quite measure up to what’s gone before, even a less-lethal “Barry” is still very, very good.\\n\\nBill Hader’s auteur turn as director-producer-star remains one of TV’s most unpredictable series, and the new season has a strong “Better Call Saul” vibe to it, triggered by fallout from the seemingly inevitable fact that Hader’s Barry couldn’t maintain his double life forever.\\n\\nThe consequences of his arrest flare out to both sides of that equation, from his acting teacher Gene Cousineau (as played by Henry Winkler, still a towering mixture of ego and need) and girlfriend Sally (Sarah Goldberg) to the rogues gallery of petty criminals in his orbit, including Fuches (Stephen Root) and NoHo Hank (Anthony Carrigan), who has improbably found love in the course of his travels, while somehow turning “Barry” into a four-syllable name.\\n\\n“Barry” has always wrestled with the discomfort of having a protagonist who murders people, and the question of empathizing with its namesake becomes particularly acute in these episodes with the character in prison. When Barry asks, “Are you mad at me?” with an almost-childlike naivete, it’s easy to forget, at least momentarily, some of the horrible things he’s done, even if the revenge-minded Jim Moss (Robert Wisdom) can’t.\\n\\nHader (who directed every episode) also excels at darkly comic visual gags, which are augmented in the new season with a few hysterical cameos by actual Hollywood figures, among them director Guillermo del Toro, made even funnier by how random they seem to be.\\n\\nThat said, the show’s surreal digressions and detours into fantasy become more distracting, in a way that feels a little too precious at times. The saving grace, consistently, is the strength of the cast, even if prison creates impediments to their interactions.\\n\\nHBO made most but not all of the season available, and the series effectively keeps the audience on edge and guessing about where it will all end up, and how (or if) its various threads will connect.\\n\\nThe likelihood of a happy ending for everyone in “Barry”-land never seemed to be in the cards, but Hader and co-creator Alec Berg appear determined to exit on their own terms, as good (mostly) and sporadically frustrating as that might be. That’s why it’s hard to get mad at a show that takes such bracing creative risks, even with a season that isn’t quite the stone-cold killer that it has been.\\n\\n“Barry” begins its fourth and final season April 14 at 10 p.m. ET on HBO, which, like CNN, is a unit of Warner Bros. Discovery.'}, {'title': 'Uber will use ChatGPT to get more people to use EVs', 'link': 'https://qz.com/uber-green-electric-vehicles-evs-ai-assistant-1851667513', 'published': 'Tue, 08 Oct 2024 13:13:47 GMT', 'source': 'http://qz.com/feed', 'content': 'In This Story UBER\\n\\nUber (UBER) is looking to encourage users and drivers to opt for electric vehicles.\\n\\n\\n\\nThe next Nvidia? Data center stocks could be a goldmine, strategist says CC Share Subtitles Off\\n\\nEnglish view video The next Nvidia? Data center stocks could be a goldmine, strategist says\\n\\nThe next Nvidia? Data center stocks could be a goldmine, strategist says CC Share Subtitles Off\\n\\nEnglish The next Nvidia? Data center stocks could be a goldmine, strategist says\\n\\nTo do so, the company will roll out an AI assistant powered by OpenAI’s ChatGPT GPT-4o, which will answer drivers’ questions about buying and using electric vehicles as opposed to a gas-powered car, executives said at the Go Get Zero sustainability conference in London on Tuesday.\\n\\nAdvertisement\\n\\nSachin Kansal, vice president of product management at Uber, said that the driver AI assistant is already in beta testing and will launch with EV-specific questions and other use cases within a few months.\\n\\nAdvertisement\\n\\n“EV Preference,” another new feature for users, allows customers to hail only fully electric vehicles. That feature will be rolled out on the app over the coming months, and the company believes the option will “help a lot of riders go green,” said Kansal.\\n\\nAdvertisement\\n\\n“We need more affordable EVs, we need stronger EV mandates, we need incentives for people who are driving the most,” chief executive Dara Khosrowshahi said at the conference. “We want to make sure that chargers are available at every community, not just the wealthiest. So we all need to step up.”\\n\\nUber is also introducing an “EV Mentor” program that connects EV drivers to EV-curious drivers to answer their questions about making the switch.\\n\\nAdvertisement\\n\\nAs part of that push, Uber Green — the company’s EV and hybrid offering that it first launched in 2020 — is now an EV-only service in 40 cities and states around the world, including major hubs like New York City, Los Angeles, Paris, and Sydney.\\n\\nThese efforts are another step towards the achievement of the company’s sustainability initiatives, which include becoming a zero-emission mobility platform in North America and Europe by 2030 and globally by 2040.\\n\\nAdvertisement\\n\\nThe company said there are already currently more than 182,000 EVs on the Uber app.'}, {'title': \"Swing state GOP chair slams Biden-Harris admin for being out of touch on key issue: 'Abandoned this country'\", 'link': 'https://www.foxnews.com/politics/swing-state-gop-chair-slams-biden-harris-admin-out-of-touch-key-issue', 'published': 'Wed, 09 Oct 2024 10:16:29 -0400', 'source': 'http://feeds.foxnews.com/foxnews/politics', 'content': 'PHOENIX – Arizona GOP Chairwoman Gina Swoboda told Fox News Digital she was not impressed with Vice President Kamala Harris’ recent trip to the border, which she called a \"photo op,\" while explaining her belief the Biden-Harris administration has failed the American people at the border.\\n\\n\"I think President Biden abandoned this country and I think Vice President Harris is without a clue,\" Swoboda told Fox News Digital. \"She\\'s without a clue of what regular people are going through. She\\'s without a clue about the border. I do not think she cares.\"\\n\\nSwoboda told Fox News Digital she often talks to ranchers along the border whose families have lived there for 100 years and described the situation as \"total devastation,\" adding that Harris’ recent trip to the border was nothing more than a \"photo op.\"\\n\\n\"I\\'ve been to the border, you have to do more than just go down there and do a photo op and leave,\" Swoboda said. \"You have to consistently, I don\\'t expect the politicians themselves to be able to spend time here all the time, but when President Trump built the wall, I mean, he kept coming down, and you have to have people on the ground that are reporting to you.\"\\n\\nNEW POLL SHOWS WHO HISPANICS ARE BACKING IN SOUTHWEST SWING STATES\\n\\n\"This administration that\\'s in office has not called the head of the Border Patrol. The head of the Border Patrol union was giving remarks that said, like for a year, for two years, for three years, they didn\\'t even hear from the administration as we\\'re having the biggest crisis on the border we\\'ve ever had.\"\\n\\nSwoboda told Fox News Digital she doesn’t think Harris is \"competent or qualified\" to solve the border issue.\\n\\nLAKE RIPS BIDEN-HARRIS \\'DOUBLE WHAMMY\\' POLICIES AFFECTING ARIZONANS : \\'DRIVEN US OVER THE CLIFF\\'\\n\\n\"I don\\'t think she really understands what the role is to be the chief executive of the United States of America,\" Swoboda added. \"So we know we have one candidate that cares very deeply, that had the most secure border in my lifetime. And that\\'s what we really need back for Arizona. And what do they say? Every state is a border state now. It\\'s everywhere.\"\\n\\nA new Fox News survey of Arizona voters in late September showed Harris trailing by 3 points with Trump leading on the immigration issue by 15 points over the vice president.\\n\\nCLICK HERE TO GET THE FOX NEWS APP\\n\\nTrump is also seen as being better at making the country safe by 7 points.'}, [], {'title': 'Column: Why reporting from South Sudan is so difficult — and critically needed', 'link': 'http://www.pbs.org/newshour/updates/reporters-notebook-reporting-south-sudan-difficult-critically-needed/', 'published': 'Sun, 15 Oct 2017 14:27:40 +0000', 'source': 'http://feeds.feedburner.com/NewshourWorld', 'content': 'In August, fellow reporter Jason Patinkin and I crossed on foot from northern Uganda into rebel-held South Sudan. Over the course of four days, we walked more than 40 miles through the bush, escorted by rebel soldiers, to shed light on one of the world’s most underreported conflicts.\\n\\nReporting on South Sudan’s war, which began in 2013, has always been a challenge due to the risk and logistical hurdles associated with accessing remote areas where fighting takes place. But over the past year, covering the war and its humanitarian fallout has become particularly difficult. Since the beginning of this year, South Sudan’s government has banned at least 20 foreign journalists in an apparent effort to silence reporters who had a track record of critically reporting on the government.\\n\\nThis systematic crackdown on the foreign press (South Sudanese journalists have long risked imprisonment and death for doing their work) coincided with two important developments. In November 2016, the United Nations warned that the violence being committed against civilians in the southern region of Equatoria risked spiraling into genocide. Then, in February, the UN declared a man-made famine, warning that 100,000 people were at risk of starving to death as a result of civil war.\\n\\nJournalists seeking to cover these events were left with two equally unsavory options: self-censorship or a risky trip to rebel-held parts of the country. Only a handful of journalists have attempted the latter since fighting escalated in July last year. For us, this was our second embed with the rebels this year.\\n\\nWe set off from a town in northern Uganda at five in the morning, bouncing along a bumpy dirt track towards the South Sudan border. Crammed into our four-wheel drive were rebel commander Martin Abucha, a dual American and South Sudanese citizen who we planned to profile for our PBS NewsHour Weekend segment, a couple of guides, and several duffle bags stuffed with our tents, sleeping bags, emergency medical kits and provisions to last us four days.\\n\\nJust as the sun began to rise above a distant range of hills that we aimed to cross later that day, our car came to a halt in front of a stream. Because of the rainy reason, it carried more water than usual. It was time to disembark and start walking, or “footing,” as South Sudanese tend to call it.\\n\\nWe took off our shoes and waded through the stream’s chilly waters. This was the first of a many rivers we’d have to cross along the way, either on foot or in small flimsy canoes dug out from tree trunks. Each time, we dreaded the idea of falling in with our camera gear.\\n\\nThe war has had a devastating impact on South Sudanese communities, but much of it has remained out of the limelight of international media.\\n\\nThe first part of our journey in northern Uganda felt very much like a hike through a national park. Passing beautiful landscapes and idyllic farming villages, one could almost forget we were headed into a war zone — but we were about to get a reality check.\\n\\nWe had just crossed into South Sudan when out of nowhere, two dozen armed men popped out of the tall grass and surrounded us at gunpoint.\\n\\n“Stop! Who are you and where are you going,” a soldier called out in Juba Arabic from his hideout no more than 20 yards away, pointing his AK47 at us. Another one next to him had a rocket-propelled grenade propped on his shoulder, also unequivocally aiming it in our direction.\\n\\nInstinctively, we threw our hands in the air and exchanged a baffled glance. Had we accidentally bumped into government soldiers? Or perhaps we had come onto the “wrong” rebels? Abucha’s group, called the Sudan People’s Liberation Army In Opposition, is the biggest but not the only armed group in Equatoria, an area rife with rival militia and bandits who exploit the security vacuum left by war.\\n\\nTo our relief, and only after Abucha answered a series of questions, this routine security check quickly gave way to a warm welcome. The platoon would be our escort for the next four days as we trekked to their base and to Loa, Abucha’s hometown.\\n\\nKeeping up with the rebels was no easy task. Given the country’s pervasive lack of basic infrastructure, South Sudanese grow up walking for dozens of miles just to go about their daily lives. For sedentary Westerners, keeping the target pace of “two meters per second” (around five miles an hour) proved challenging amid 90-degree temperatures, all while filming and plowing our way through dense, itchy elephant grass.\\n\\nThe upside of the cumbersome terrain was that it kept us safe. During our four-day trip, we didn’t cross a single road, instead walking along a dizzying network of narrow bush paths the rebels seemed to know like the backs of their hands. An unwanted encounter with government troops, who tended to stick to roads and move around in vehicles as opposed to on foot, was highly unlikely.\\n\\nThe closest we got to government-controlled area was a visit to Loa, located just two kilometers away from a main road frequently patrolled by government soldiers. We couldn’t stay long, but the hour we spent on the ground offered us a glimpse into what villages must look like in many parts of Equatoria: burned mud huts, looted schools and clinics, fallow fields and – most strikingly – no civilians.\\n\\nThe war has had a devastating impact on South Sudanese communities like the one in Loa, but much of it has remained out of the limelight of international media. Our four-day venture into rebel-held South Sudan offered us a rare opportunity to report ground truths, and we are thankful for that.'}, {'title': \"What worked for India's Modi - and what didn’t?\", 'link': 'https://www.bbc.com/news/articles/ce442577v35o', 'published': 'Tue, 04 Jun 2024 15:32:32 GMT', 'source': 'https://feeds.bbci.co.uk/news/world/asia/india/rss.xml', 'content': \"What worked for India's Modi - and what didn’t?\\n\\nWhat worked for India's Modi and what didn’t?\\n\\nIndian Prime Minister Narendra Modi’s BJP looks to have won the most seats in this year's election.\\n\\nBut - for the first time - he has fallen short of getting an outright majority, and will need to rely on his allies to get him over the final hurdle.\\n\\nSo, what happened? The BBC’s Yogita Limaye explains.\\n\\nVideo produced by Christian Parkinson.\"}]\n"
     ]
    }
   ],
   "source": [
    "print(articles_fields)"
   ]
  },
  {
   "cell_type": "markdown",
   "metadata": {},
   "source": [
    "feedparser to collect news aricles\n"
   ]
  },
  {
   "cell_type": "code",
   "execution_count": 28,
   "metadata": {},
   "outputs": [],
   "source": [
    "import sqlite3\n",
    "\n",
    "# Connect to SQLite database\n",
    "conn = sqlite3.connect('news_articles.db')\n",
    "cursor = conn.cursor()\n",
    "\n",
    "# Create a table to store articles\n",
    "cursor.execute('''CREATE TABLE IF NOT EXISTS articles (\n",
    "                  id INTEGER PRIMARY KEY AUTOINCREMENT,\n",
    "                  title TEXT,\n",
    "                  content TEXT,\n",
    "                  published DATETIME,\n",
    "                  source TEXT,\n",
    "                  url TEXT UNIQUE,\n",
    "                  category TEXT)''')\n",
    "\n",
    "# Function to store articles in the database\n",
    "def store_article(article, category):\n",
    "    try:\n",
    "        cursor.execute('''INSERT INTO articles (title, content, published, source, url, category) \n",
    "                          VALUES (?, ?, ?, ?, ?, ?)''', \n",
    "                          (article['title'], article['content'], article['published'], article['source'], article['link'], category))\n",
    "        conn.commit()\n",
    "    except sqlite3.IntegrityError:\n",
    "        print(f\"Duplicate article: {article['title']}\")\n"
   ]
  },
  {
   "cell_type": "markdown",
   "metadata": {},
   "source": [
    "database storage\n"
   ]
  },
  {
   "cell_type": "code",
   "execution_count": 29,
   "metadata": {},
   "outputs": [],
   "source": [
    "import nltk\n",
    "from nltk.corpus import stopwords\n",
    "\n",
    "# Example categories with keywords\n",
    "categories = {\n",
    "    'Politics': ['election', 'government', 'politician', 'policy'],\n",
    "    'Technology': ['tech', 'AI', 'software', 'hardware', 'innovation'],\n",
    "    'Health': ['health', 'medicine', 'doctor', 'virus', 'vaccine']\n",
    "}\n",
    "\n",
    "# Categorization function based on keywords\n",
    "def categorize_article(content):\n",
    "    if not content:\n",
    "        return 'Uncategorized'\n",
    "    \n",
    "    content_words = set(content.lower().split())\n",
    "    for category, keywords in categories.items():\n",
    "        if any(keyword in content_words for keyword in keywords):\n",
    "            return category\n",
    "    return 'Uncategorized'\n"
   ]
  },
  {
   "cell_type": "markdown",
   "metadata": {},
   "source": [
    "article categorization"
   ]
  },
  {
   "cell_type": "code",
   "execution_count": null,
   "metadata": {},
   "outputs": [],
   "source": [
    "from celery import Celery\n",
    "\n",
    "# Create a new Celery instance\n",
    "app = Celery('news_collector', broker='redis://localhost:6379/0')\n",
    "\n",
    "# You can configure other Celery options if needed\n",
    "app.conf.update(\n",
    "    task_routes={\n",
    "        'news_collector.*': {'queue': 'news'}\n",
    "    },\n",
    "    task_serializer='json',\n",
    "    result_serializer='json',\n",
    "    accept_content=['json'],\n",
    "    timezone='UTC',\n",
    "    enable_utc=True\n",
    ")\n",
    "# from your_parser_script import parse_feed, store_article, categorize_article\n",
    "\n",
    "app = Celery('news_collector', broker='redis://localhost:6379/0')\n",
    "\n",
    "@app.task\n",
    "def process_article(article):\n",
    "    category = categorize_article(article['content'])\n",
    "    store_article(article, category)\n",
    "\n",
    "# Queueing articles for processing\n",
    "for feed in rss_fields:\n",
    "    articles = parse_feed(feed)\n",
    "    for article in articles:\n",
    "        process_article.delay(article)  # Asynchronous task\n"
   ]
  },
  {
   "cell_type": "markdown",
   "metadata": {},
   "source": [
    "task queueing with celery and redis"
   ]
  },
  {
   "cell_type": "code",
   "execution_count": null,
   "metadata": {},
   "outputs": [],
   "source": [
    "import logging\n",
    "\n",
    "logging.basicConfig(filename='news_collector.log', level=logging.INFO)\n",
    "\n",
    "def store_article(article, category):\n",
    "    try:\n",
    "        cursor.execute('''INSERT INTO articles (title, content, published, source, url, category) \n",
    "                          VALUES (?, ?, ?, ?, ?, ?)''', \n",
    "                          (article['title'], article['content'], article['published'], article['source'], article['link'], category))\n",
    "        conn.commit()\n",
    "        logging.info(f\"Article stored: {article['title']}\")\n",
    "    except sqlite3.IntegrityError:\n",
    "        logging.warning(f\"Duplicate article: {article['title']}\")\n",
    "    except Exception as e:\n",
    "        logging.error(f\"Error storing article: {e}\")\n"
   ]
  },
  {
   "cell_type": "markdown",
   "metadata": {},
   "source": [
    "logging and error handling"
   ]
  },
  {
   "cell_type": "code",
   "execution_count": null,
   "metadata": {},
   "outputs": [],
   "source": [
    "celery -A news_collector worker --loglevel=info\n"
   ]
  },
  {
   "cell_type": "markdown",
   "metadata": {},
   "source": [
    "run redis in backgrounud,Start celery"
   ]
  },
  {
   "cell_type": "markdown",
   "metadata": {},
   "source": [
    "application running"
   ]
  },
  {
   "cell_type": "code",
   "execution_count": null,
   "metadata": {},
   "outputs": [],
   "source": [
    "Python Code: Includes feed parsing, database management, categorization, task queueing, and logging.\n",
    "\n",
    "Database Dump: To export data from SQLite to CSV:\n",
    "\n",
    "sqlite3 news_articles.db \".mode csv\" \".headers on\" \".output articles.csv\" \"SELECT * FROM articles;\""
   ]
  }
 ],
 "metadata": {
  "kernelspec": {
   "display_name": "Python 3",
   "language": "python",
   "name": "python3"
  },
  "language_info": {
   "codemirror_mode": {
    "name": "ipython",
    "version": 3
   },
   "file_extension": ".py",
   "mimetype": "text/x-python",
   "name": "python",
   "nbconvert_exporter": "python",
   "pygments_lexer": "ipython3",
   "version": "3.10.5"
  }
 },
 "nbformat": 4,
 "nbformat_minor": 2
}
